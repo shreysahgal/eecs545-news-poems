{
 "cells": [
  {
   "cell_type": "code",
   "execution_count": 60,
   "id": "10da1733",
   "metadata": {},
   "outputs": [],
   "source": [
    "import pandas as pd\n",
    "import numpy as np\n",
    "import matplotlib as plt\n",
    "\n",
    "import re"
   ]
  },
  {
   "cell_type": "code",
   "execution_count": 61,
   "id": "4d4e5530",
   "metadata": {},
   "outputs": [
    {
     "data": {
      "text/html": [
       "<div>\n",
       "<style scoped>\n",
       "    .dataframe tbody tr th:only-of-type {\n",
       "        vertical-align: middle;\n",
       "    }\n",
       "\n",
       "    .dataframe tbody tr th {\n",
       "        vertical-align: top;\n",
       "    }\n",
       "\n",
       "    .dataframe thead th {\n",
       "        text-align: right;\n",
       "    }\n",
       "</style>\n",
       "<table border=\"1\" class=\"dataframe\">\n",
       "  <thead>\n",
       "    <tr style=\"text-align: right;\">\n",
       "      <th></th>\n",
       "      <th>Author</th>\n",
       "      <th>Title</th>\n",
       "      <th>Poetry Foundation ID</th>\n",
       "      <th>Content</th>\n",
       "    </tr>\n",
       "  </thead>\n",
       "  <tbody>\n",
       "    <tr>\n",
       "      <th>0</th>\n",
       "      <td>Wendy Videlock</td>\n",
       "      <td>!</td>\n",
       "      <td>55489</td>\n",
       "      <td>Dear Writers, I’m compiling the first in what ...</td>\n",
       "    </tr>\n",
       "    <tr>\n",
       "      <th>1</th>\n",
       "      <td>Hailey Leithauser</td>\n",
       "      <td>0</td>\n",
       "      <td>41729</td>\n",
       "      <td>Philosophic\\nin its complex, ovoid emptiness,\\...</td>\n",
       "    </tr>\n",
       "    <tr>\n",
       "      <th>2</th>\n",
       "      <td>Jody Gladding</td>\n",
       "      <td>1-800-FEAR</td>\n",
       "      <td>57135</td>\n",
       "      <td>We'd  like  to  talk  with  you  about  fear t...</td>\n",
       "    </tr>\n",
       "    <tr>\n",
       "      <th>3</th>\n",
       "      <td>Joseph Brodsky</td>\n",
       "      <td>1 January 1965</td>\n",
       "      <td>56736</td>\n",
       "      <td>The Wise Men will unlearn your name.\\nAbove yo...</td>\n",
       "    </tr>\n",
       "    <tr>\n",
       "      <th>4</th>\n",
       "      <td>Ted Berrigan</td>\n",
       "      <td>3 Pages</td>\n",
       "      <td>51624</td>\n",
       "      <td>For Jack Collom\\n10 Things I do Every Day\\n\\np...</td>\n",
       "    </tr>\n",
       "    <tr>\n",
       "      <th>...</th>\n",
       "      <td>...</td>\n",
       "      <td>...</td>\n",
       "      <td>...</td>\n",
       "      <td>...</td>\n",
       "    </tr>\n",
       "    <tr>\n",
       "      <th>15647</th>\n",
       "      <td>Hannah Gamble</td>\n",
       "      <td>Your Invitation to a Modest Breakfast</td>\n",
       "      <td>56059</td>\n",
       "      <td>It’s too cold to smoke outside, but if you com...</td>\n",
       "    </tr>\n",
       "    <tr>\n",
       "      <th>15648</th>\n",
       "      <td>Eleni Sikelianos</td>\n",
       "      <td>Your Kingdom\\n \\n \\n  \\n   Launch Audio in a N...</td>\n",
       "      <td>145220</td>\n",
       "      <td>if you like let the body feel\\nall its own evo...</td>\n",
       "    </tr>\n",
       "    <tr>\n",
       "      <th>15649</th>\n",
       "      <td>Susan Elizabeth Howe</td>\n",
       "      <td>“Your Luck Is About To Change”</td>\n",
       "      <td>41696</td>\n",
       "      <td>(A fortune cookie)\\nOminous inscrutable Chines...</td>\n",
       "    </tr>\n",
       "    <tr>\n",
       "      <th>15650</th>\n",
       "      <td>Andrew Shields</td>\n",
       "      <td>Your Mileage May Vary</td>\n",
       "      <td>90177</td>\n",
       "      <td>1\\nOur last night in the house was not our las...</td>\n",
       "    </tr>\n",
       "    <tr>\n",
       "      <th>15651</th>\n",
       "      <td>Joseph O. Legaspi</td>\n",
       "      <td>Your Mother Wears a House Dress</td>\n",
       "      <td>91304</td>\n",
       "      <td>If your house\\nis a dress\\nit’ll fit like\\nLos...</td>\n",
       "    </tr>\n",
       "  </tbody>\n",
       "</table>\n",
       "<p>15652 rows × 4 columns</p>\n",
       "</div>"
      ],
      "text/plain": [
       "                     Author  \\\n",
       "0            Wendy Videlock   \n",
       "1         Hailey Leithauser   \n",
       "2             Jody Gladding   \n",
       "3            Joseph Brodsky   \n",
       "4              Ted Berrigan   \n",
       "...                     ...   \n",
       "15647         Hannah Gamble   \n",
       "15648      Eleni Sikelianos   \n",
       "15649  Susan Elizabeth Howe   \n",
       "15650        Andrew Shields   \n",
       "15651     Joseph O. Legaspi   \n",
       "\n",
       "                                                   Title  \\\n",
       "0                                                      !   \n",
       "1                                                      0   \n",
       "2                                             1-800-FEAR   \n",
       "3                                         1 January 1965   \n",
       "4                                                3 Pages   \n",
       "...                                                  ...   \n",
       "15647              Your Invitation to a Modest Breakfast   \n",
       "15648  Your Kingdom\\n \\n \\n  \\n   Launch Audio in a N...   \n",
       "15649                     “Your Luck Is About To Change”   \n",
       "15650                              Your Mileage May Vary   \n",
       "15651                    Your Mother Wears a House Dress   \n",
       "\n",
       "       Poetry Foundation ID                                            Content  \n",
       "0                     55489  Dear Writers, I’m compiling the first in what ...  \n",
       "1                     41729  Philosophic\\nin its complex, ovoid emptiness,\\...  \n",
       "2                     57135  We'd  like  to  talk  with  you  about  fear t...  \n",
       "3                     56736  The Wise Men will unlearn your name.\\nAbove yo...  \n",
       "4                     51624  For Jack Collom\\n10 Things I do Every Day\\n\\np...  \n",
       "...                     ...                                                ...  \n",
       "15647                 56059  It’s too cold to smoke outside, but if you com...  \n",
       "15648                145220  if you like let the body feel\\nall its own evo...  \n",
       "15649                 41696  (A fortune cookie)\\nOminous inscrutable Chines...  \n",
       "15650                 90177  1\\nOur last night in the house was not our las...  \n",
       "15651                 91304  If your house\\nis a dress\\nit’ll fit like\\nLos...  \n",
       "\n",
       "[15652 rows x 4 columns]"
      ]
     },
     "execution_count": 61,
     "metadata": {},
     "output_type": "execute_result"
    }
   ],
   "source": [
    "poetry_df = pd.read_csv(\"../data/poetry/kaggle_poem_dataset.csv\").drop(['Unnamed: 0'],axis=1)\n",
    "poetry_df"
   ]
  },
  {
   "cell_type": "code",
   "execution_count": 62,
   "id": "118e213b",
   "metadata": {},
   "outputs": [],
   "source": [
    "from nltk.tokenize import WordPunctTokenizer\n",
    "import nltk"
   ]
  },
  {
   "cell_type": "code",
   "execution_count": 63,
   "id": "950fc997",
   "metadata": {
    "scrolled": true
   },
   "outputs": [],
   "source": [
    "def tokenize(poem):\n",
    "    return WordPunctTokenizer().tokenize(re.sub(r\"\\n\", r\" NN \", poem))\n",
    "\n",
    "poetry_df[\"Tokenized\"] = poetry_df[\"Content\"].apply(lambda row: tokenize(row))"
   ]
  },
  {
   "cell_type": "code",
   "execution_count": 64,
   "id": "da8ef789",
   "metadata": {},
   "outputs": [],
   "source": [
    "def count_token(tokenized, token_to_count):\n",
    "    return sum([token==token_to_count for token in tokenized])\n",
    "\n",
    "def num_lines(tokenized):\n",
    "    return (count_token(tokenized, \"NN\") + 1)\n",
    "\n",
    "def num_words(tokenized):\n",
    "    filtered = [token for token in tokenized if (token.isalnum() and token!=\"NN\")]\n",
    "    return len(filtered)\n",
    "\n",
    "def num_punctuation(tokenized):\n",
    "    filtered = [token for token in tokenized if (not token.isalnum() and token!=\"NN\")]\n",
    "    return len(filtered)\n",
    "\n",
    "# (num_words(nltk_tokens), len(nltk_tokens), num_punctuation(nltk_tokens))"
   ]
  },
  {
   "cell_type": "code",
   "execution_count": 65,
   "id": "2aa715c1",
   "metadata": {},
   "outputs": [],
   "source": [
    "poetry_df[\"Num_lines\"] = poetry_df[\"Tokenized\"].apply(lambda row: num_lines(row), convert_dtype=False)\n",
    "poetry_df[\"Num_words\"] = poetry_df[\"Tokenized\"].apply(lambda row: num_words(row), convert_dtype=False)\n",
    "poetry_df[\"Num_punctuation\"] = poetry_df[\"Tokenized\"].apply(lambda row: num_punctuation(row), convert_dtype=False)"
   ]
  },
  {
   "cell_type": "code",
   "execution_count": 66,
   "id": "326f5b8b",
   "metadata": {},
   "outputs": [],
   "source": [
    "samples = poetry_df[poetry_df[\"Num_lines\"] == 14][\"Tokenized\"]"
   ]
  },
  {
   "cell_type": "code",
   "execution_count": 67,
   "id": "7a6802f4",
   "metadata": {},
   "outputs": [],
   "source": [
    "def tokenize(content):\n",
    "    return ' '.join(content.split('\\n'))\n",
    "\n",
    "def content2output_vec(content, num_lines):\n",
    "    # Output is vector \n",
    "    # [5, 4, 1, 10, ... , 16], len = num_lines\n",
    "\n",
    "    return list(map(len, [i.split() for i in content.split(\"\\n\")]))\n",
    "\n",
    "labels = np.stack(poetry_df[poetry_df[\"Num_lines\"]==14].apply(lambda s: content2output_vec(s[\"Content\"], s[\"Num_lines\"]), axis=1).values)/1.0\n",
    "samples = [tokenize(i) for i in poetry_df[poetry_df[\"Num_lines\"] == 14][\"Content\"].values]\n"
   ]
  },
  {
   "cell_type": "code",
   "execution_count": 68,
   "id": "093fd016",
   "metadata": {},
   "outputs": [
    {
     "data": {
      "text/plain": [
       "'Extreme exertion isolates a person from help, discovered Atlas. Once a certain shoulder-to-burden ratio collapses, there is so little others can do: they can’t lend a hand with Brazil and not stand on Peru.'"
      ]
     },
     "execution_count": 68,
     "metadata": {},
     "output_type": "execute_result"
    }
   ],
   "source": [
    "samples[100]"
   ]
  },
  {
   "cell_type": "code",
   "execution_count": 69,
   "id": "ba43a370",
   "metadata": {},
   "outputs": [],
   "source": [
    "import tensorflow as tf"
   ]
  },
  {
   "cell_type": "code",
   "execution_count": 70,
   "id": "b1350fdc",
   "metadata": {},
   "outputs": [],
   "source": [
    "from tensorflow.keras.layers import TextVectorization"
   ]
  },
  {
   "cell_type": "code",
   "execution_count": 71,
   "id": "aac44e31",
   "metadata": {},
   "outputs": [],
   "source": [
    "train_samples = samples[:800]\n",
    "train_labels = labels[:800]\n",
    "\n",
    "test_samples = samples[800:]\n",
    "test_labels = labels[800:]"
   ]
  },
  {
   "cell_type": "markdown",
   "id": "266337df",
   "metadata": {},
   "source": [
    "next time:\n",
    "- look at other NLP/deep learning preprocessing pipelines/models\n",
    "- santiy check with existing poetry generator -- if we feed our corpus of poems into an existing model, does it produce good poem-y poems? is there issues with newlines/punctuation?\n",
    "- check how glove pretrained model deals with punctuation --> how to encode\n",
    "- look into how many words in our vocabulary are unknown by the glove pretrained model\n",
    "- create embedding matrix using pretrained glove model (dealing with unknown/infrequent words?)\n",
    "- still use word indexing (like we did with previous model); embedding matrix maps the word index to glove word vector\n",
    "- use keras embedding layer to turn vector of word indices into a matrix and create new model using convolution etc"
   ]
  },
  {
   "cell_type": "code",
   "execution_count": 72,
   "id": "1bd42867",
   "metadata": {},
   "outputs": [],
   "source": [
    "train_dataset = tf.data.Dataset.from_tensor_slices((np.array(train_samples), np.array(train_labels)))"
   ]
  },
  {
   "cell_type": "code",
   "execution_count": 73,
   "id": "10da50c6",
   "metadata": {},
   "outputs": [
    {
     "data": {
      "text/plain": [
       "331"
      ]
     },
     "execution_count": 73,
     "metadata": {},
     "output_type": "execute_result"
    }
   ],
   "source": [
    "import re\n",
    "\n",
    "# find max number of words in a poem\n",
    "tokenized = [re.findall(r\"[\\w']+|[.,!?;-]\", s) for s in samples]\n",
    "input_size = max(list(map(len, tokenized)))\n",
    "input_size"
   ]
  },
  {
   "cell_type": "code",
   "execution_count": 105,
   "id": "8b08cb23",
   "metadata": {},
   "outputs": [],
   "source": [
    "import tensorflow_text as tf_text   \n",
    "\n",
    "def pad_punc_lower(strs):\n",
    "    strs = tf.strings.lower(strs)\n",
    "    strs = tf.strings.regex_replace(strs, '([.,!?();—:\\'’‘”/\"&“])', ' \\1 ')\n",
    "    strs = tf.strings.regex_replace(strs, '\\s{2,}', ' ')\n",
    "    return strs\n",
    "\n",
    "vectorizer = TextVectorization(\n",
    "    output_sequence_length=input_size,\n",
    "    standardize=pad_punc_lower\n",
    ")\n",
    "text_ds = tf.data.Dataset.from_tensor_slices(samples).batch(128)\n",
    "vectorizer.adapt(text_ds)"
   ]
  },
  {
   "cell_type": "code",
   "execution_count": 106,
   "id": "ae5d9452",
   "metadata": {},
   "outputs": [],
   "source": [
    "voc = vectorizer.get_vocabulary()\n",
    "word_index = dict(zip(voc, range(len(voc))))"
   ]
  },
  {
   "cell_type": "code",
   "execution_count": 107,
   "id": "cca574b2",
   "metadata": {},
   "outputs": [
    {
     "name": "stdout",
     "output_type": "stream",
     "text": [
      "found 400000 word vectors\n"
     ]
    }
   ],
   "source": [
    "glove_fname = \"../glove.6B.100d.txt\"\n",
    "\n",
    "embeddings_index = {}\n",
    "with open(glove_fname, 'r') as f:\n",
    "    for line in f:\n",
    "        word, coefs = line.split(maxsplit=1)\n",
    "        coefs = np.fromstring(coefs, \"f\", sep=\" \")\n",
    "        embeddings_index[word] = coefs\n",
    "\n",
    "print(\"found %d word vectors\" % len(embeddings_index))"
   ]
  },
  {
   "cell_type": "code",
   "execution_count": 108,
   "id": "4ca91ea7",
   "metadata": {
    "scrolled": false
   },
   "outputs": [
    {
     "name": "stdout",
     "output_type": "stream",
     "text": [
      "converted 10952 words (1570 misses)\n"
     ]
    }
   ],
   "source": [
    "num_tokens = len(voc) + 2\n",
    "embedding_dim = 100\n",
    "hits = 0\n",
    "misses = 0\n",
    "\n",
    "# prepare embedding matrix\n",
    "embedding_matrix = np.zeros((num_tokens, embedding_dim))\n",
    "for word, i in word_index.items():\n",
    "    embedding_vector = embeddings_index.get(word)\n",
    "    if embedding_vector is not None:\n",
    "        embedding_matrix[i] = embedding_vector\n",
    "        hits += 1\n",
    "    else:\n",
    "#         print(word)\n",
    "        misses += 1\n",
    "print(\"converted %d words (%d misses)\" % (hits, misses))"
   ]
  },
  {
   "cell_type": "code",
   "execution_count": 109,
   "id": "c16b3475",
   "metadata": {},
   "outputs": [],
   "source": [
    "from tensorflow.keras.layers import Embedding\n",
    "from keras.initializers import Constant\n",
    "\n",
    "embedding_layer = Embedding(\n",
    "    num_tokens,\n",
    "    embedding_dim,\n",
    "    embeddings_initializer=Constant(embedding_matrix),\n",
    "    trainable=False\n",
    ")"
   ]
  },
  {
   "cell_type": "code",
   "execution_count": 246,
   "id": "700d96be",
   "metadata": {},
   "outputs": [
    {
     "name": "stdout",
     "output_type": "stream",
     "text": [
      "Model: \"sequential_9\"\n",
      "_________________________________________________________________\n",
      " Layer (type)                Output Shape              Param #   \n",
      "=================================================================\n",
      " embedding_3 (Embedding)     multiple                  1252400   \n",
      "                                                                 \n",
      " conv1d_28 (Conv1D)          (None, 327, 128)          64128     \n",
      "                                                                 \n",
      " max_pooling1d_18 (MaxPoolin  (None, 65, 128)          0         \n",
      " g1D)                                                            \n",
      "                                                                 \n",
      " conv1d_29 (Conv1D)          (None, 61, 128)           82048     \n",
      "                                                                 \n",
      " max_pooling1d_19 (MaxPoolin  (None, 12, 128)          0         \n",
      " g1D)                                                            \n",
      "                                                                 \n",
      " conv1d_30 (Conv1D)          (None, 8, 128)            82048     \n",
      "                                                                 \n",
      " global_max_pooling1d_9 (Glo  (None, 128)              0         \n",
      " balMaxPooling1D)                                                \n",
      "                                                                 \n",
      " dense_18 (Dense)            (None, 128)               16512     \n",
      "                                                                 \n",
      " dense_19 (Dense)            (None, 14)                1806      \n",
      "                                                                 \n",
      "=================================================================\n",
      "Total params: 1,498,942\n",
      "Trainable params: 246,542\n",
      "Non-trainable params: 1,252,400\n",
      "_________________________________________________________________\n"
     ]
    }
   ],
   "source": [
    "from tensorflow.keras import layers\n",
    "import keras\n",
    "\n",
    "\n",
    "model = tf.keras.Sequential()\n",
    "model.add(keras.Input(shape=(331), dtype=\"int64\"))\n",
    "model.add(embedding_layer)\n",
    "model.add(layers.Conv1D(128, 5, activation=\"relu\"))\n",
    "model.add(layers.MaxPooling1D(5))\n",
    "model.add(layers.Conv1D(128, 5, activation=\"relu\"))\n",
    "model.add(layers.MaxPooling1D(5))\n",
    "model.add(layers.Conv1D(128, 5, activation=\"relu\"))\n",
    "model.add(layers.GlobalMaxPooling1D())\n",
    "model.add(layers.Dense(128, activation=\"relu\"))\n",
    "model.add(layers.Dense(14, activation=\"relu\"))\n",
    "\n",
    "model.summary()"
   ]
  },
  {
   "cell_type": "code",
   "execution_count": 273,
   "id": "7f850faf",
   "metadata": {},
   "outputs": [],
   "source": [
    "def tokens2input_vec(tokens):\n",
    "    return vectorizer(np.array([[s] for s in tokens])).numpy()\n",
    "\n",
    "X_train = tokens2input_vec(train_samples)\n",
    "X_val = vectorizer(np.array([[s] for s in test_samples])).numpy()\n",
    "\n",
    "Y_train = np.array(train_labels)\n",
    "Y_val = np.array(test_labels)"
   ]
  },
  {
   "cell_type": "code",
   "execution_count": 276,
   "id": "a647e454",
   "metadata": {},
   "outputs": [
    {
     "name": "stdout",
     "output_type": "stream",
     "text": [
      "Epoch 1/100\n",
      "7/7 [==============================] - 1s 114ms/step - loss: 7.0857 - acc: 0.3425 - val_loss: 5.6751 - val_acc: 0.1010\n",
      "Epoch 2/100\n",
      "7/7 [==============================] - 1s 95ms/step - loss: 2.1097 - acc: 0.2362 - val_loss: 4.7297 - val_acc: 0.0606\n",
      "Epoch 3/100\n",
      "7/7 [==============================] - 1s 96ms/step - loss: 1.4348 - acc: 0.3613 - val_loss: 4.2074 - val_acc: 0.0909\n",
      "Epoch 4/100\n",
      "7/7 [==============================] - 1s 95ms/step - loss: 1.0381 - acc: 0.3875 - val_loss: 4.1405 - val_acc: 0.1111\n",
      "Epoch 5/100\n",
      "7/7 [==============================] - 1s 96ms/step - loss: 0.7208 - acc: 0.4800 - val_loss: 4.2816 - val_acc: 0.0808\n",
      "Epoch 6/100\n",
      "7/7 [==============================] - 1s 94ms/step - loss: 0.5746 - acc: 0.4575 - val_loss: 4.1943 - val_acc: 0.0909\n",
      "Epoch 7/100\n",
      "7/7 [==============================] - 1s 102ms/step - loss: 0.4421 - acc: 0.5475 - val_loss: 4.2532 - val_acc: 0.0808\n",
      "Epoch 8/100\n",
      "7/7 [==============================] - 1s 94ms/step - loss: 0.3468 - acc: 0.5500 - val_loss: 4.3080 - val_acc: 0.1010\n",
      "Epoch 9/100\n",
      "7/7 [==============================] - 1s 97ms/step - loss: 0.2794 - acc: 0.5800 - val_loss: 4.3082 - val_acc: 0.1111\n",
      "Epoch 10/100\n",
      "7/7 [==============================] - 1s 97ms/step - loss: 0.2359 - acc: 0.5950 - val_loss: 4.3468 - val_acc: 0.0909\n",
      "Epoch 11/100\n",
      "7/7 [==============================] - 1s 96ms/step - loss: 0.2053 - acc: 0.6200 - val_loss: 4.3485 - val_acc: 0.0909\n",
      "Epoch 12/100\n",
      "7/7 [==============================] - 1s 95ms/step - loss: 0.1780 - acc: 0.6438 - val_loss: 4.3895 - val_acc: 0.0909\n",
      "Epoch 13/100\n",
      "7/7 [==============================] - 1s 94ms/step - loss: 0.1576 - acc: 0.6388 - val_loss: 4.3824 - val_acc: 0.0909\n",
      "Epoch 14/100\n",
      "7/7 [==============================] - 1s 98ms/step - loss: 0.1434 - acc: 0.6338 - val_loss: 4.4207 - val_acc: 0.0909\n",
      "Epoch 15/100\n",
      "7/7 [==============================] - 1s 94ms/step - loss: 0.1309 - acc: 0.6438 - val_loss: 4.4222 - val_acc: 0.0808\n",
      "Epoch 16/100\n",
      "7/7 [==============================] - 1s 94ms/step - loss: 0.1209 - acc: 0.6363 - val_loss: 4.4445 - val_acc: 0.0808\n",
      "Epoch 17/100\n",
      "7/7 [==============================] - 1s 95ms/step - loss: 0.1127 - acc: 0.6425 - val_loss: 4.4627 - val_acc: 0.0808\n",
      "Epoch 18/100\n",
      "7/7 [==============================] - 1s 94ms/step - loss: 0.1055 - acc: 0.6463 - val_loss: 4.4734 - val_acc: 0.0808\n",
      "Epoch 19/100\n",
      "7/7 [==============================] - 1s 95ms/step - loss: 0.0988 - acc: 0.6587 - val_loss: 4.4762 - val_acc: 0.0808\n",
      "Epoch 20/100\n",
      "7/7 [==============================] - 1s 105ms/step - loss: 0.0949 - acc: 0.6500 - val_loss: 4.4933 - val_acc: 0.0808\n",
      "Epoch 21/100\n",
      "7/7 [==============================] - 1s 104ms/step - loss: 0.0877 - acc: 0.6388 - val_loss: 4.4992 - val_acc: 0.0808\n",
      "Epoch 22/100\n",
      "7/7 [==============================] - 1s 103ms/step - loss: 0.0836 - acc: 0.6625 - val_loss: 4.5111 - val_acc: 0.0808\n",
      "Epoch 23/100\n",
      "7/7 [==============================] - 1s 97ms/step - loss: 0.0785 - acc: 0.6787 - val_loss: 4.5220 - val_acc: 0.0808\n",
      "Epoch 24/100\n",
      "7/7 [==============================] - 1s 103ms/step - loss: 0.0733 - acc: 0.6538 - val_loss: 4.5216 - val_acc: 0.0808\n",
      "Epoch 25/100\n",
      "7/7 [==============================] - 1s 123ms/step - loss: 0.0697 - acc: 0.6600 - val_loss: 4.5318 - val_acc: 0.0808\n",
      "Epoch 26/100\n",
      "7/7 [==============================] - 1s 104ms/step - loss: 0.0666 - acc: 0.6612 - val_loss: 4.5343 - val_acc: 0.0808\n",
      "Epoch 27/100\n",
      "7/7 [==============================] - 1s 112ms/step - loss: 0.0636 - acc: 0.6662 - val_loss: 4.5336 - val_acc: 0.0808\n",
      "Epoch 28/100\n",
      "7/7 [==============================] - 1s 123ms/step - loss: 0.0603 - acc: 0.6700 - val_loss: 4.5433 - val_acc: 0.0808\n",
      "Epoch 29/100\n",
      "7/7 [==============================] - 1s 113ms/step - loss: 0.0566 - acc: 0.6513 - val_loss: 4.5612 - val_acc: 0.0808\n",
      "Epoch 30/100\n",
      "3/7 [===========>..................] - ETA: 0s - loss: 0.0483 - acc: 0.7057"
     ]
    },
    {
     "ename": "KeyboardInterrupt",
     "evalue": "",
     "output_type": "error",
     "traceback": [
      "\u001b[0;31m---------------------------------------------------------------------------\u001b[0m",
      "\u001b[0;31mKeyboardInterrupt\u001b[0m                         Traceback (most recent call last)",
      "\u001b[0;32m/var/folders/qw/bnk4pzh55dd735pj2j085qz40000gn/T/ipykernel_19314/298284288.py\u001b[0m in \u001b[0;36m<module>\u001b[0;34m\u001b[0m\n\u001b[1;32m     11\u001b[0m     \u001b[0mloss\u001b[0m\u001b[0;34m=\u001b[0m\u001b[0;34m\"mse\"\u001b[0m\u001b[0;34m,\u001b[0m \u001b[0moptimizer\u001b[0m\u001b[0;34m=\u001b[0m\u001b[0;34m\"adam\"\u001b[0m\u001b[0;34m,\u001b[0m \u001b[0mmetrics\u001b[0m\u001b[0;34m=\u001b[0m\u001b[0;34m[\u001b[0m\u001b[0;34m\"acc\"\u001b[0m\u001b[0;34m]\u001b[0m\u001b[0;34m\u001b[0m\u001b[0;34m\u001b[0m\u001b[0m\n\u001b[1;32m     12\u001b[0m )\n\u001b[0;32m---> 13\u001b[0;31m \u001b[0mmodel\u001b[0m\u001b[0;34m.\u001b[0m\u001b[0mfit\u001b[0m\u001b[0;34m(\u001b[0m\u001b[0mX_train\u001b[0m\u001b[0;34m,\u001b[0m \u001b[0mY_train\u001b[0m\u001b[0;34m,\u001b[0m \u001b[0mbatch_size\u001b[0m\u001b[0;34m=\u001b[0m\u001b[0;36m128\u001b[0m\u001b[0;34m,\u001b[0m \u001b[0mepochs\u001b[0m\u001b[0;34m=\u001b[0m\u001b[0;36m100\u001b[0m\u001b[0;34m,\u001b[0m \u001b[0mvalidation_data\u001b[0m\u001b[0;34m=\u001b[0m\u001b[0;34m(\u001b[0m\u001b[0mX_val\u001b[0m\u001b[0;34m,\u001b[0m \u001b[0mY_val\u001b[0m\u001b[0;34m)\u001b[0m\u001b[0;34m)\u001b[0m\u001b[0;34m\u001b[0m\u001b[0;34m\u001b[0m\u001b[0m\n\u001b[0m",
      "\u001b[0;32m~/opt/anaconda3/lib/python3.9/site-packages/keras/utils/traceback_utils.py\u001b[0m in \u001b[0;36merror_handler\u001b[0;34m(*args, **kwargs)\u001b[0m\n\u001b[1;32m     62\u001b[0m     \u001b[0mfiltered_tb\u001b[0m \u001b[0;34m=\u001b[0m \u001b[0;32mNone\u001b[0m\u001b[0;34m\u001b[0m\u001b[0;34m\u001b[0m\u001b[0m\n\u001b[1;32m     63\u001b[0m     \u001b[0;32mtry\u001b[0m\u001b[0;34m:\u001b[0m\u001b[0;34m\u001b[0m\u001b[0;34m\u001b[0m\u001b[0m\n\u001b[0;32m---> 64\u001b[0;31m       \u001b[0;32mreturn\u001b[0m \u001b[0mfn\u001b[0m\u001b[0;34m(\u001b[0m\u001b[0;34m*\u001b[0m\u001b[0margs\u001b[0m\u001b[0;34m,\u001b[0m \u001b[0;34m**\u001b[0m\u001b[0mkwargs\u001b[0m\u001b[0;34m)\u001b[0m\u001b[0;34m\u001b[0m\u001b[0;34m\u001b[0m\u001b[0m\n\u001b[0m\u001b[1;32m     65\u001b[0m     \u001b[0;32mexcept\u001b[0m \u001b[0mException\u001b[0m \u001b[0;32mas\u001b[0m \u001b[0me\u001b[0m\u001b[0;34m:\u001b[0m  \u001b[0;31m# pylint: disable=broad-except\u001b[0m\u001b[0;34m\u001b[0m\u001b[0;34m\u001b[0m\u001b[0m\n\u001b[1;32m     66\u001b[0m       \u001b[0mfiltered_tb\u001b[0m \u001b[0;34m=\u001b[0m \u001b[0m_process_traceback_frames\u001b[0m\u001b[0;34m(\u001b[0m\u001b[0me\u001b[0m\u001b[0;34m.\u001b[0m\u001b[0m__traceback__\u001b[0m\u001b[0;34m)\u001b[0m\u001b[0;34m\u001b[0m\u001b[0;34m\u001b[0m\u001b[0m\n",
      "\u001b[0;32m~/opt/anaconda3/lib/python3.9/site-packages/keras/engine/training.py\u001b[0m in \u001b[0;36mfit\u001b[0;34m(self, x, y, batch_size, epochs, verbose, callbacks, validation_split, validation_data, shuffle, class_weight, sample_weight, initial_epoch, steps_per_epoch, validation_steps, validation_batch_size, validation_freq, max_queue_size, workers, use_multiprocessing)\u001b[0m\n\u001b[1;32m   1382\u001b[0m                 _r=1):\n\u001b[1;32m   1383\u001b[0m               \u001b[0mcallbacks\u001b[0m\u001b[0;34m.\u001b[0m\u001b[0mon_train_batch_begin\u001b[0m\u001b[0;34m(\u001b[0m\u001b[0mstep\u001b[0m\u001b[0;34m)\u001b[0m\u001b[0;34m\u001b[0m\u001b[0;34m\u001b[0m\u001b[0m\n\u001b[0;32m-> 1384\u001b[0;31m               \u001b[0mtmp_logs\u001b[0m \u001b[0;34m=\u001b[0m \u001b[0mself\u001b[0m\u001b[0;34m.\u001b[0m\u001b[0mtrain_function\u001b[0m\u001b[0;34m(\u001b[0m\u001b[0miterator\u001b[0m\u001b[0;34m)\u001b[0m\u001b[0;34m\u001b[0m\u001b[0;34m\u001b[0m\u001b[0m\n\u001b[0m\u001b[1;32m   1385\u001b[0m               \u001b[0;32mif\u001b[0m \u001b[0mdata_handler\u001b[0m\u001b[0;34m.\u001b[0m\u001b[0mshould_sync\u001b[0m\u001b[0;34m:\u001b[0m\u001b[0;34m\u001b[0m\u001b[0;34m\u001b[0m\u001b[0m\n\u001b[1;32m   1386\u001b[0m                 \u001b[0mcontext\u001b[0m\u001b[0;34m.\u001b[0m\u001b[0masync_wait\u001b[0m\u001b[0;34m(\u001b[0m\u001b[0;34m)\u001b[0m\u001b[0;34m\u001b[0m\u001b[0;34m\u001b[0m\u001b[0m\n",
      "\u001b[0;32m~/opt/anaconda3/lib/python3.9/site-packages/tensorflow/python/util/traceback_utils.py\u001b[0m in \u001b[0;36merror_handler\u001b[0;34m(*args, **kwargs)\u001b[0m\n\u001b[1;32m    148\u001b[0m     \u001b[0mfiltered_tb\u001b[0m \u001b[0;34m=\u001b[0m \u001b[0;32mNone\u001b[0m\u001b[0;34m\u001b[0m\u001b[0;34m\u001b[0m\u001b[0m\n\u001b[1;32m    149\u001b[0m     \u001b[0;32mtry\u001b[0m\u001b[0;34m:\u001b[0m\u001b[0;34m\u001b[0m\u001b[0;34m\u001b[0m\u001b[0m\n\u001b[0;32m--> 150\u001b[0;31m       \u001b[0;32mreturn\u001b[0m \u001b[0mfn\u001b[0m\u001b[0;34m(\u001b[0m\u001b[0;34m*\u001b[0m\u001b[0margs\u001b[0m\u001b[0;34m,\u001b[0m \u001b[0;34m**\u001b[0m\u001b[0mkwargs\u001b[0m\u001b[0;34m)\u001b[0m\u001b[0;34m\u001b[0m\u001b[0;34m\u001b[0m\u001b[0m\n\u001b[0m\u001b[1;32m    151\u001b[0m     \u001b[0;32mexcept\u001b[0m \u001b[0mException\u001b[0m \u001b[0;32mas\u001b[0m \u001b[0me\u001b[0m\u001b[0;34m:\u001b[0m\u001b[0;34m\u001b[0m\u001b[0;34m\u001b[0m\u001b[0m\n\u001b[1;32m    152\u001b[0m       \u001b[0mfiltered_tb\u001b[0m \u001b[0;34m=\u001b[0m \u001b[0m_process_traceback_frames\u001b[0m\u001b[0;34m(\u001b[0m\u001b[0me\u001b[0m\u001b[0;34m.\u001b[0m\u001b[0m__traceback__\u001b[0m\u001b[0;34m)\u001b[0m\u001b[0;34m\u001b[0m\u001b[0;34m\u001b[0m\u001b[0m\n",
      "\u001b[0;32m~/opt/anaconda3/lib/python3.9/site-packages/tensorflow/python/eager/def_function.py\u001b[0m in \u001b[0;36m__call__\u001b[0;34m(self, *args, **kwds)\u001b[0m\n\u001b[1;32m    913\u001b[0m \u001b[0;34m\u001b[0m\u001b[0m\n\u001b[1;32m    914\u001b[0m       \u001b[0;32mwith\u001b[0m \u001b[0mOptionalXlaContext\u001b[0m\u001b[0;34m(\u001b[0m\u001b[0mself\u001b[0m\u001b[0;34m.\u001b[0m\u001b[0m_jit_compile\u001b[0m\u001b[0;34m)\u001b[0m\u001b[0;34m:\u001b[0m\u001b[0;34m\u001b[0m\u001b[0;34m\u001b[0m\u001b[0m\n\u001b[0;32m--> 915\u001b[0;31m         \u001b[0mresult\u001b[0m \u001b[0;34m=\u001b[0m \u001b[0mself\u001b[0m\u001b[0;34m.\u001b[0m\u001b[0m_call\u001b[0m\u001b[0;34m(\u001b[0m\u001b[0;34m*\u001b[0m\u001b[0margs\u001b[0m\u001b[0;34m,\u001b[0m \u001b[0;34m**\u001b[0m\u001b[0mkwds\u001b[0m\u001b[0;34m)\u001b[0m\u001b[0;34m\u001b[0m\u001b[0;34m\u001b[0m\u001b[0m\n\u001b[0m\u001b[1;32m    916\u001b[0m \u001b[0;34m\u001b[0m\u001b[0m\n\u001b[1;32m    917\u001b[0m       \u001b[0mnew_tracing_count\u001b[0m \u001b[0;34m=\u001b[0m \u001b[0mself\u001b[0m\u001b[0;34m.\u001b[0m\u001b[0mexperimental_get_tracing_count\u001b[0m\u001b[0;34m(\u001b[0m\u001b[0;34m)\u001b[0m\u001b[0;34m\u001b[0m\u001b[0;34m\u001b[0m\u001b[0m\n",
      "\u001b[0;32m~/opt/anaconda3/lib/python3.9/site-packages/tensorflow/python/eager/def_function.py\u001b[0m in \u001b[0;36m_call\u001b[0;34m(self, *args, **kwds)\u001b[0m\n\u001b[1;32m    945\u001b[0m       \u001b[0;31m# In this case we have created variables on the first call, so we run the\u001b[0m\u001b[0;34m\u001b[0m\u001b[0;34m\u001b[0m\u001b[0m\n\u001b[1;32m    946\u001b[0m       \u001b[0;31m# defunned version which is guaranteed to never create variables.\u001b[0m\u001b[0;34m\u001b[0m\u001b[0;34m\u001b[0m\u001b[0m\n\u001b[0;32m--> 947\u001b[0;31m       \u001b[0;32mreturn\u001b[0m \u001b[0mself\u001b[0m\u001b[0;34m.\u001b[0m\u001b[0m_stateless_fn\u001b[0m\u001b[0;34m(\u001b[0m\u001b[0;34m*\u001b[0m\u001b[0margs\u001b[0m\u001b[0;34m,\u001b[0m \u001b[0;34m**\u001b[0m\u001b[0mkwds\u001b[0m\u001b[0;34m)\u001b[0m  \u001b[0;31m# pylint: disable=not-callable\u001b[0m\u001b[0;34m\u001b[0m\u001b[0;34m\u001b[0m\u001b[0m\n\u001b[0m\u001b[1;32m    948\u001b[0m     \u001b[0;32melif\u001b[0m \u001b[0mself\u001b[0m\u001b[0;34m.\u001b[0m\u001b[0m_stateful_fn\u001b[0m \u001b[0;32mis\u001b[0m \u001b[0;32mnot\u001b[0m \u001b[0;32mNone\u001b[0m\u001b[0;34m:\u001b[0m\u001b[0;34m\u001b[0m\u001b[0;34m\u001b[0m\u001b[0m\n\u001b[1;32m    949\u001b[0m       \u001b[0;31m# Release the lock early so that multiple threads can perform the call\u001b[0m\u001b[0;34m\u001b[0m\u001b[0;34m\u001b[0m\u001b[0m\n",
      "\u001b[0;32m~/opt/anaconda3/lib/python3.9/site-packages/tensorflow/python/eager/function.py\u001b[0m in \u001b[0;36m__call__\u001b[0;34m(self, *args, **kwargs)\u001b[0m\n\u001b[1;32m   2954\u001b[0m       (graph_function,\n\u001b[1;32m   2955\u001b[0m        filtered_flat_args) = self._maybe_define_function(args, kwargs)\n\u001b[0;32m-> 2956\u001b[0;31m     return graph_function._call_flat(\n\u001b[0m\u001b[1;32m   2957\u001b[0m         filtered_flat_args, captured_inputs=graph_function.captured_inputs)  # pylint: disable=protected-access\n\u001b[1;32m   2958\u001b[0m \u001b[0;34m\u001b[0m\u001b[0m\n",
      "\u001b[0;32m~/opt/anaconda3/lib/python3.9/site-packages/tensorflow/python/eager/function.py\u001b[0m in \u001b[0;36m_call_flat\u001b[0;34m(self, args, captured_inputs, cancellation_manager)\u001b[0m\n\u001b[1;32m   1851\u001b[0m         and executing_eagerly):\n\u001b[1;32m   1852\u001b[0m       \u001b[0;31m# No tape is watching; skip to running the function.\u001b[0m\u001b[0;34m\u001b[0m\u001b[0;34m\u001b[0m\u001b[0m\n\u001b[0;32m-> 1853\u001b[0;31m       return self._build_call_outputs(self._inference_function.call(\n\u001b[0m\u001b[1;32m   1854\u001b[0m           ctx, args, cancellation_manager=cancellation_manager))\n\u001b[1;32m   1855\u001b[0m     forward_backward = self._select_forward_and_backward_functions(\n",
      "\u001b[0;32m~/opt/anaconda3/lib/python3.9/site-packages/tensorflow/python/eager/function.py\u001b[0m in \u001b[0;36mcall\u001b[0;34m(self, ctx, args, cancellation_manager)\u001b[0m\n\u001b[1;32m    497\u001b[0m       \u001b[0;32mwith\u001b[0m \u001b[0m_InterpolateFunctionError\u001b[0m\u001b[0;34m(\u001b[0m\u001b[0mself\u001b[0m\u001b[0;34m)\u001b[0m\u001b[0;34m:\u001b[0m\u001b[0;34m\u001b[0m\u001b[0;34m\u001b[0m\u001b[0m\n\u001b[1;32m    498\u001b[0m         \u001b[0;32mif\u001b[0m \u001b[0mcancellation_manager\u001b[0m \u001b[0;32mis\u001b[0m \u001b[0;32mNone\u001b[0m\u001b[0;34m:\u001b[0m\u001b[0;34m\u001b[0m\u001b[0;34m\u001b[0m\u001b[0m\n\u001b[0;32m--> 499\u001b[0;31m           outputs = execute.execute(\n\u001b[0m\u001b[1;32m    500\u001b[0m               \u001b[0mstr\u001b[0m\u001b[0;34m(\u001b[0m\u001b[0mself\u001b[0m\u001b[0;34m.\u001b[0m\u001b[0msignature\u001b[0m\u001b[0;34m.\u001b[0m\u001b[0mname\u001b[0m\u001b[0;34m)\u001b[0m\u001b[0;34m,\u001b[0m\u001b[0;34m\u001b[0m\u001b[0;34m\u001b[0m\u001b[0m\n\u001b[1;32m    501\u001b[0m               \u001b[0mnum_outputs\u001b[0m\u001b[0;34m=\u001b[0m\u001b[0mself\u001b[0m\u001b[0;34m.\u001b[0m\u001b[0m_num_outputs\u001b[0m\u001b[0;34m,\u001b[0m\u001b[0;34m\u001b[0m\u001b[0;34m\u001b[0m\u001b[0m\n",
      "\u001b[0;32m~/opt/anaconda3/lib/python3.9/site-packages/tensorflow/python/eager/execute.py\u001b[0m in \u001b[0;36mquick_execute\u001b[0;34m(op_name, num_outputs, inputs, attrs, ctx, name)\u001b[0m\n\u001b[1;32m     52\u001b[0m   \u001b[0;32mtry\u001b[0m\u001b[0;34m:\u001b[0m\u001b[0;34m\u001b[0m\u001b[0;34m\u001b[0m\u001b[0m\n\u001b[1;32m     53\u001b[0m     \u001b[0mctx\u001b[0m\u001b[0;34m.\u001b[0m\u001b[0mensure_initialized\u001b[0m\u001b[0;34m(\u001b[0m\u001b[0;34m)\u001b[0m\u001b[0;34m\u001b[0m\u001b[0;34m\u001b[0m\u001b[0m\n\u001b[0;32m---> 54\u001b[0;31m     tensors = pywrap_tfe.TFE_Py_Execute(ctx._handle, device_name, op_name,\n\u001b[0m\u001b[1;32m     55\u001b[0m                                         inputs, attrs, num_outputs)\n\u001b[1;32m     56\u001b[0m   \u001b[0;32mexcept\u001b[0m \u001b[0mcore\u001b[0m\u001b[0;34m.\u001b[0m\u001b[0m_NotOkStatusException\u001b[0m \u001b[0;32mas\u001b[0m \u001b[0me\u001b[0m\u001b[0;34m:\u001b[0m\u001b[0;34m\u001b[0m\u001b[0;34m\u001b[0m\u001b[0m\n",
      "\u001b[0;31mKeyboardInterrupt\u001b[0m: "
     ]
    }
   ],
   "source": [
    "def poem_loss(y_true, y_pred):  \n",
    "#     tf.print(\"true\", type(y_true))\n",
    "#     tf.print(\"pred\", type(y_pred))\n",
    "    mse = tf.reduce_mean(tf.math.square(y_pred - y_true), axis=-1)\n",
    "    wsl = (tf.math.reduce_sum(y_true, 1) - tf.math.reduce_sum(y_pred, 1))**2\n",
    "    asdf = tf.math.reduce_sum(y_pred, 1)\n",
    "    \n",
    "    return mse + wsl\n",
    "\n",
    "model.compile(\n",
    "    loss=\"mse\", optimizer=\"adam\", metrics=[\"acc\"]\n",
    ")\n",
    "model.fit(X_train, Y_train, batch_size=128, epochs=100, validation_data=(X_val, Y_val))"
   ]
  },
  {
   "cell_type": "code",
   "execution_count": 249,
   "id": "33e5d83b",
   "metadata": {},
   "outputs": [
    {
     "name": "stdout",
     "output_type": "stream",
     "text": [
      "4/4 [==============================] - 0s 9ms/step - loss: 6.9070 - acc: 0.0909\n"
     ]
    },
    {
     "data": {
      "text/plain": [
       "[6.906974792480469, 0.09090909361839294]"
      ]
     },
     "execution_count": 249,
     "metadata": {},
     "output_type": "execute_result"
    }
   ],
   "source": [
    "model.evaluate(X_val, Y_val)"
   ]
  },
  {
   "cell_type": "code",
   "execution_count": 242,
   "id": "0847a81e",
   "metadata": {},
   "outputs": [],
   "source": [
    "test_poem = poetry_df[poetry_df[\"Num_lines\"] == 14].iloc[10]"
   ]
  },
  {
   "cell_type": "code",
   "execution_count": 243,
   "id": "720b8036",
   "metadata": {},
   "outputs": [
    {
     "data": {
      "text/plain": [
       "True"
      ]
     },
     "execution_count": 243,
     "metadata": {},
     "output_type": "execute_result"
    }
   ],
   "source": [
    "tokens = tokenize(test_poem[\"Content\"])\n",
    "input_vec = vectorizer(tokens)\n",
    "output_vec = content2output_vec(test_poem[\"Content\"], 14)\n",
    "input_vec in X_train"
   ]
  },
  {
   "cell_type": "code",
   "execution_count": 244,
   "id": "65f739ac",
   "metadata": {},
   "outputs": [
    {
     "data": {
      "text/plain": [
       "array([[0.       , 7.659795 , 7.676293 , 7.913671 , 6.2157555, 7.9880147,\n",
       "        6.9104986, 7.016113 , 7.4865623, 6.075247 , 0.       , 7.7458124,\n",
       "        0.       , 8.128104 ]], dtype=float32)"
      ]
     },
     "execution_count": 244,
     "metadata": {},
     "output_type": "execute_result"
    }
   ],
   "source": [
    "model.predict(np.array([input_vec]))"
   ]
  },
  {
   "cell_type": "code",
   "execution_count": 245,
   "id": "4f5a6b71",
   "metadata": {},
   "outputs": [
    {
     "data": {
      "text/plain": [
       "[8, 9, 9, 7, 6, 9, 7, 5, 5, 7, 6, 8, 10, 10]"
      ]
     },
     "execution_count": 245,
     "metadata": {},
     "output_type": "execute_result"
    }
   ],
   "source": [
    "output_vec"
   ]
  },
  {
   "cell_type": "code",
   "execution_count": null,
   "id": "f65a9cd8",
   "metadata": {},
   "outputs": [],
   "source": [
    "tf.keras.losses.MeanSquaredError()(output_vec, pred_vec).numpy()"
   ]
  },
  {
   "cell_type": "code",
   "execution_count": null,
   "id": "a30f7749",
   "metadata": {},
   "outputs": [],
   "source": [
    "X_train.shape"
   ]
  },
  {
   "cell_type": "code",
   "execution_count": 262,
   "id": "303263ab",
   "metadata": {},
   "outputs": [],
   "source": [
    "news = \"\"\"So, for now, many governments are more urgently focused on reducing near term energy shocks, \n",
    "aiming to boost global oil production to replace the millions of barrels per day that Russia has historically \n",
    "exported but which is now being shunned by Western nations. The two goals aren’t necessarily at odds, officials \n",
    "in the United States and Europe say. Yet some fear that countries could become so consumed by the immediate \n",
    "energy crisis that they neglect longer term policies to cut reliance on fossil fuels — a myopia \n",
    "that could set the world up for more oil and gas shocks in the future as well as a dangerously overheated planet.\"\"\".replace('\\n', '')"
   ]
  },
  {
   "cell_type": "code",
   "execution_count": 264,
   "id": "a305921c",
   "metadata": {},
   "outputs": [],
   "source": [
    "input_vec = np.array([vectorizer(news)])"
   ]
  },
  {
   "cell_type": "code",
   "execution_count": 265,
   "id": "32de07cc",
   "metadata": {},
   "outputs": [
    {
     "data": {
      "text/plain": [
       "array([[6.6189504, 7.215023 , 6.057043 , 6.2529254, 0.       , 6.623775 ,\n",
       "        6.53215  , 5.4095764, 7.893675 , 5.6245685, 7.3084373, 7.9201546,\n",
       "        8.122378 , 7.1181817]], dtype=float32)"
      ]
     },
     "execution_count": 265,
     "metadata": {},
     "output_type": "execute_result"
    }
   ],
   "source": [
    "pred = model.predict(input_vec)\n",
    "pred"
   ]
  },
  {
   "cell_type": "code",
   "execution_count": 266,
   "id": "6756b614",
   "metadata": {},
   "outputs": [],
   "source": [
    "from math import ceil\n",
    "\n",
    "def poemize_prediction(content, pred):\n",
    "    content = content.split(' ')\n",
    "    s = 0\n",
    "    for i in pred[0]:\n",
    "        s += i+1\n",
    "        content.insert(int(ceil(s)), '\\n')\n",
    "    content = ' '.join(content)\n",
    "    return '\\n'.join([i.strip() for i in content.split('\\n')])\n",
    "\n",
    "def poemize_prediction2(content, pred):\n",
    "    content = content.split(' ')\n",
    "    print(content)"
   ]
  },
  {
   "cell_type": "code",
   "execution_count": 268,
   "id": "9e1d51a8",
   "metadata": {},
   "outputs": [
    {
     "name": "stdout",
     "output_type": "stream",
     "text": [
      "So, for now, many governments are more urgently\n",
      "focused on reducing near term energy shocks,\n",
      "aiming to boost global oil production\n",
      "to replace the millions of barrels per\n",
      "\n",
      "day that Russia has historically exported\n",
      "but which is now being shunned by\n",
      "Western nations. The two goals\n",
      "aren’t necessarily at odds, officials in the United\n",
      "States and Europe say. Yet some\n",
      "fear that countries could become so consumed\n",
      "by the immediate energy crisis that they neglect\n",
      "longer term policies to cut reliance on fossil\n",
      "fuels — a myopia that could set\n",
      "the world up for more oil and gas shocks in the future as well as a dangerously overheated planet.\n"
     ]
    }
   ],
   "source": [
    "print(poemize_prediction(news, pred))"
   ]
  },
  {
   "cell_type": "code",
   "execution_count": 270,
   "id": "5f030779",
   "metadata": {},
   "outputs": [
    {
     "name": "stdout",
     "output_type": "stream",
     "text": [
      "Bank of France intervened to buy\n",
      "small amounts of dollars\n",
      "and sell yen in\n",
      "Paris today to\n",
      "\n",
      "stabilize exchange\n",
      "rates agreed at last\n",
      "month's meeting of\n",
      "Finance Ministers of the Group\n",
      "of Five and Canada. Dealers\n",
      "say recent central bank\n",
      "intervention in foreign exchange\n",
      "markets appeared to be\n",
      "a limited\n",
      "reaction to temporary pressures rather than a major defence operation.\n"
     ]
    }
   ],
   "source": [
    "news = \"Bank of France intervened to buy small amounts of dollars and sell yen in Paris today to stabilize exchange rates agreed at last month's meeting of Finance Ministers of the Group of Five and Canada. Dealers say recent central bank intervention in foreign exchange markets appeared to be a limited reaction to temporary pressures rather than a major defence operation.\"\n",
    "input_vec = np.array([vectorizer(news)])\n",
    "\n",
    "pred = model.predict(input_vec)\n",
    "print(poemize_prediction(news, pred))"
   ]
  },
  {
   "cell_type": "code",
   "execution_count": 215,
   "id": "7b0da519",
   "metadata": {},
   "outputs": [
    {
     "ename": "NameError",
     "evalue": "name 'X_test' is not defined",
     "output_type": "error",
     "traceback": [
      "\u001b[0;31m---------------------------------------------------------------------------\u001b[0m",
      "\u001b[0;31mNameError\u001b[0m                                 Traceback (most recent call last)",
      "\u001b[0;32m/var/folders/qw/bnk4pzh55dd735pj2j085qz40000gn/T/ipykernel_19314/3624294392.py\u001b[0m in \u001b[0;36m<module>\u001b[0;34m\u001b[0m\n\u001b[0;32m----> 1\u001b[0;31m \u001b[0mX_test\u001b[0m\u001b[0;34m.\u001b[0m\u001b[0mshape\u001b[0m\u001b[0;34m\u001b[0m\u001b[0;34m\u001b[0m\u001b[0m\n\u001b[0m",
      "\u001b[0;31mNameError\u001b[0m: name 'X_test' is not defined"
     ]
    }
   ],
   "source": [
    "X_test.shape"
   ]
  },
  {
   "cell_type": "code",
   "execution_count": 272,
   "id": "d4d9352f",
   "metadata": {},
   "outputs": [
    {
     "data": {
      "text/plain": [
       "array([0., 0., 0., 0., 0., 0., 0., 0., 0., 0., 0., 0., 0., 0., 0., 0., 0.,\n",
       "       0., 0., 0., 0., 0., 0., 0., 0., 0., 0., 0., 0., 0., 0., 0., 0., 0.,\n",
       "       0., 0., 0., 0., 0., 0., 0., 0., 0., 0., 0., 0., 0., 0., 0., 0., 0.,\n",
       "       0., 0., 0., 0., 0., 0., 0., 0., 0., 0., 0., 0., 0., 0., 0., 0., 0.,\n",
       "       0., 0., 0., 0., 0., 0., 0., 0., 0., 0., 0., 0., 0., 0., 0., 0., 0.,\n",
       "       0., 0., 0., 0., 0., 0., 0., 0., 0., 0., 0., 0., 0., 0.],\n",
       "      dtype=float32)"
      ]
     },
     "execution_count": 272,
     "metadata": {},
     "output_type": "execute_result"
    }
   ],
   "source": [
    "model.predict(X_val)[:, 4]"
   ]
  },
  {
   "cell_type": "code",
   "execution_count": null,
   "id": "20f2ddbc",
   "metadata": {},
   "outputs": [],
   "source": []
  }
 ],
 "metadata": {
  "kernelspec": {
   "display_name": "Python 3 (ipykernel)",
   "language": "python",
   "name": "python3"
  },
  "language_info": {
   "codemirror_mode": {
    "name": "ipython",
    "version": 3
   },
   "file_extension": ".py",
   "mimetype": "text/x-python",
   "name": "python",
   "nbconvert_exporter": "python",
   "pygments_lexer": "ipython3",
   "version": "3.9.7"
  }
 },
 "nbformat": 4,
 "nbformat_minor": 5
}
