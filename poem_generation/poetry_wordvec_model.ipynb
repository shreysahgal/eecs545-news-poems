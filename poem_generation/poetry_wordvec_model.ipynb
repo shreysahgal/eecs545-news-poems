{
 "cells": [
  {
   "cell_type": "code",
   "execution_count": 1,
   "id": "10da1733",
   "metadata": {},
   "outputs": [],
   "source": [
    "import pandas as pd\n",
    "import numpy as np\n",
    "import matplotlib as plt\n",
    "\n",
    "import re"
   ]
  },
  {
   "cell_type": "code",
   "execution_count": 2,
   "id": "4d4e5530",
   "metadata": {},
   "outputs": [
    {
     "data": {
      "text/html": [
       "<div>\n",
       "<style scoped>\n",
       "    .dataframe tbody tr th:only-of-type {\n",
       "        vertical-align: middle;\n",
       "    }\n",
       "\n",
       "    .dataframe tbody tr th {\n",
       "        vertical-align: top;\n",
       "    }\n",
       "\n",
       "    .dataframe thead th {\n",
       "        text-align: right;\n",
       "    }\n",
       "</style>\n",
       "<table border=\"1\" class=\"dataframe\">\n",
       "  <thead>\n",
       "    <tr style=\"text-align: right;\">\n",
       "      <th></th>\n",
       "      <th>Author</th>\n",
       "      <th>Title</th>\n",
       "      <th>Poetry Foundation ID</th>\n",
       "      <th>Content</th>\n",
       "    </tr>\n",
       "  </thead>\n",
       "  <tbody>\n",
       "    <tr>\n",
       "      <th>0</th>\n",
       "      <td>Wendy Videlock</td>\n",
       "      <td>!</td>\n",
       "      <td>55489</td>\n",
       "      <td>Dear Writers, I’m compiling the first in what ...</td>\n",
       "    </tr>\n",
       "    <tr>\n",
       "      <th>1</th>\n",
       "      <td>Hailey Leithauser</td>\n",
       "      <td>0</td>\n",
       "      <td>41729</td>\n",
       "      <td>Philosophic\\nin its complex, ovoid emptiness,\\...</td>\n",
       "    </tr>\n",
       "    <tr>\n",
       "      <th>2</th>\n",
       "      <td>Jody Gladding</td>\n",
       "      <td>1-800-FEAR</td>\n",
       "      <td>57135</td>\n",
       "      <td>We'd  like  to  talk  with  you  about  fear t...</td>\n",
       "    </tr>\n",
       "    <tr>\n",
       "      <th>3</th>\n",
       "      <td>Joseph Brodsky</td>\n",
       "      <td>1 January 1965</td>\n",
       "      <td>56736</td>\n",
       "      <td>The Wise Men will unlearn your name.\\nAbove yo...</td>\n",
       "    </tr>\n",
       "    <tr>\n",
       "      <th>4</th>\n",
       "      <td>Ted Berrigan</td>\n",
       "      <td>3 Pages</td>\n",
       "      <td>51624</td>\n",
       "      <td>For Jack Collom\\n10 Things I do Every Day\\n\\np...</td>\n",
       "    </tr>\n",
       "    <tr>\n",
       "      <th>...</th>\n",
       "      <td>...</td>\n",
       "      <td>...</td>\n",
       "      <td>...</td>\n",
       "      <td>...</td>\n",
       "    </tr>\n",
       "    <tr>\n",
       "      <th>15647</th>\n",
       "      <td>Hannah Gamble</td>\n",
       "      <td>Your Invitation to a Modest Breakfast</td>\n",
       "      <td>56059</td>\n",
       "      <td>It’s too cold to smoke outside, but if you com...</td>\n",
       "    </tr>\n",
       "    <tr>\n",
       "      <th>15648</th>\n",
       "      <td>Eleni Sikelianos</td>\n",
       "      <td>Your Kingdom\\n \\n \\n  \\n   Launch Audio in a N...</td>\n",
       "      <td>145220</td>\n",
       "      <td>if you like let the body feel\\nall its own evo...</td>\n",
       "    </tr>\n",
       "    <tr>\n",
       "      <th>15649</th>\n",
       "      <td>Susan Elizabeth Howe</td>\n",
       "      <td>“Your Luck Is About To Change”</td>\n",
       "      <td>41696</td>\n",
       "      <td>(A fortune cookie)\\nOminous inscrutable Chines...</td>\n",
       "    </tr>\n",
       "    <tr>\n",
       "      <th>15650</th>\n",
       "      <td>Andrew Shields</td>\n",
       "      <td>Your Mileage May Vary</td>\n",
       "      <td>90177</td>\n",
       "      <td>1\\nOur last night in the house was not our las...</td>\n",
       "    </tr>\n",
       "    <tr>\n",
       "      <th>15651</th>\n",
       "      <td>Joseph O. Legaspi</td>\n",
       "      <td>Your Mother Wears a House Dress</td>\n",
       "      <td>91304</td>\n",
       "      <td>If your house\\nis a dress\\nit’ll fit like\\nLos...</td>\n",
       "    </tr>\n",
       "  </tbody>\n",
       "</table>\n",
       "<p>15652 rows × 4 columns</p>\n",
       "</div>"
      ],
      "text/plain": [
       "                     Author  \\\n",
       "0            Wendy Videlock   \n",
       "1         Hailey Leithauser   \n",
       "2             Jody Gladding   \n",
       "3            Joseph Brodsky   \n",
       "4              Ted Berrigan   \n",
       "...                     ...   \n",
       "15647         Hannah Gamble   \n",
       "15648      Eleni Sikelianos   \n",
       "15649  Susan Elizabeth Howe   \n",
       "15650        Andrew Shields   \n",
       "15651     Joseph O. Legaspi   \n",
       "\n",
       "                                                   Title  \\\n",
       "0                                                      !   \n",
       "1                                                      0   \n",
       "2                                             1-800-FEAR   \n",
       "3                                         1 January 1965   \n",
       "4                                                3 Pages   \n",
       "...                                                  ...   \n",
       "15647              Your Invitation to a Modest Breakfast   \n",
       "15648  Your Kingdom\\n \\n \\n  \\n   Launch Audio in a N...   \n",
       "15649                     “Your Luck Is About To Change”   \n",
       "15650                              Your Mileage May Vary   \n",
       "15651                    Your Mother Wears a House Dress   \n",
       "\n",
       "       Poetry Foundation ID                                            Content  \n",
       "0                     55489  Dear Writers, I’m compiling the first in what ...  \n",
       "1                     41729  Philosophic\\nin its complex, ovoid emptiness,\\...  \n",
       "2                     57135  We'd  like  to  talk  with  you  about  fear t...  \n",
       "3                     56736  The Wise Men will unlearn your name.\\nAbove yo...  \n",
       "4                     51624  For Jack Collom\\n10 Things I do Every Day\\n\\np...  \n",
       "...                     ...                                                ...  \n",
       "15647                 56059  It’s too cold to smoke outside, but if you com...  \n",
       "15648                145220  if you like let the body feel\\nall its own evo...  \n",
       "15649                 41696  (A fortune cookie)\\nOminous inscrutable Chines...  \n",
       "15650                 90177  1\\nOur last night in the house was not our las...  \n",
       "15651                 91304  If your house\\nis a dress\\nit’ll fit like\\nLos...  \n",
       "\n",
       "[15652 rows x 4 columns]"
      ]
     },
     "execution_count": 2,
     "metadata": {},
     "output_type": "execute_result"
    }
   ],
   "source": [
    "poetry_df = pd.read_csv(\"../data/poetry/kaggle_poem_dataset.csv\").drop(['Unnamed: 0'],axis=1)\n",
    "poetry_df"
   ]
  },
  {
   "cell_type": "code",
   "execution_count": 3,
   "id": "118e213b",
   "metadata": {},
   "outputs": [],
   "source": [
    "from nltk.tokenize import WordPunctTokenizer\n",
    "import nltk"
   ]
  },
  {
   "cell_type": "code",
   "execution_count": 4,
   "id": "950fc997",
   "metadata": {
    "scrolled": true
   },
   "outputs": [],
   "source": [
    "def tokenize(poem):\n",
    "    return WordPunctTokenizer().tokenize(re.sub(r\"\\n\", r\" NN \", poem))\n",
    "\n",
    "poetry_df[\"Tokenized\"] = poetry_df[\"Content\"].apply(lambda row: tokenize(row))"
   ]
  },
  {
   "cell_type": "code",
   "execution_count": 5,
   "id": "da8ef789",
   "metadata": {},
   "outputs": [],
   "source": [
    "def count_token(tokenized, token_to_count):\n",
    "    return sum([token==token_to_count for token in tokenized])\n",
    "\n",
    "def num_lines(tokenized):\n",
    "    return (count_token(tokenized, \"NN\") + 1)\n",
    "\n",
    "def num_words(tokenized):\n",
    "    filtered = [token for token in tokenized if (token.isalnum() and token!=\"NN\")]\n",
    "    return len(filtered)\n",
    "\n",
    "def num_punctuation(tokenized):\n",
    "    filtered = [token for token in tokenized if (not token.isalnum() and token!=\"NN\")]\n",
    "    return len(filtered)\n",
    "\n",
    "# (num_words(nltk_tokens), len(nltk_tokens), num_punctuation(nltk_tokens))"
   ]
  },
  {
   "cell_type": "code",
   "execution_count": 6,
   "id": "2aa715c1",
   "metadata": {},
   "outputs": [],
   "source": [
    "poetry_df[\"Num_lines\"] = poetry_df[\"Tokenized\"].apply(lambda row: num_lines(row), convert_dtype=False)\n",
    "poetry_df[\"Num_words\"] = poetry_df[\"Tokenized\"].apply(lambda row: num_words(row), convert_dtype=False)\n",
    "poetry_df[\"Num_punctuation\"] = poetry_df[\"Tokenized\"].apply(lambda row: num_punctuation(row), convert_dtype=False)"
   ]
  },
  {
   "cell_type": "code",
   "execution_count": 7,
   "id": "326f5b8b",
   "metadata": {},
   "outputs": [],
   "source": [
    "samples = poetry_df[poetry_df[\"Num_lines\"] == 14][\"Tokenized\"]"
   ]
  },
  {
   "cell_type": "code",
   "execution_count": 8,
   "id": "7a6802f4",
   "metadata": {},
   "outputs": [],
   "source": [
    "def tokenize(content):\n",
    "    return ' '.join(content.split('\\n'))\n",
    "\n",
    "def content2output_vec(content, num_lines):\n",
    "    # Output is vector \n",
    "    # [5, 4, 1, 10, ... , 16], len = num_lines\n",
    "\n",
    "    return list(map(len, [i.split() for i in content.split(\"\\n\")]))\n",
    "\n",
    "labels = np.stack(poetry_df[poetry_df[\"Num_lines\"]==14].apply(lambda s: content2output_vec(s[\"Content\"], s[\"Num_lines\"]), axis=1).values)/1.0\n",
    "samples = [tokenize(i) for i in poetry_df[poetry_df[\"Num_lines\"] == 14][\"Content\"].values]\n"
   ]
  },
  {
   "cell_type": "code",
   "execution_count": 9,
   "id": "8cb21ff3",
   "metadata": {},
   "outputs": [
    {
     "data": {
      "text/plain": [
       "'Extreme exertion isolates a person from help, discovered Atlas. Once a certain shoulder-to-burden ratio collapses, there is so little others can do: they can’t lend a hand with Brazil and not stand on Peru.'"
      ]
     },
     "execution_count": 9,
     "metadata": {},
     "output_type": "execute_result"
    }
   ],
   "source": [
    "samples[100]"
   ]
  },
  {
   "cell_type": "code",
   "execution_count": 10,
   "id": "ba43a370",
   "metadata": {},
   "outputs": [],
   "source": [
    "import tensorflow as tf"
   ]
  },
  {
   "cell_type": "code",
   "execution_count": 11,
   "id": "b1350fdc",
   "metadata": {},
   "outputs": [],
   "source": [
    "from tensorflow.keras.layers import TextVectorization"
   ]
  },
  {
   "cell_type": "code",
   "execution_count": 12,
   "id": "aac44e31",
   "metadata": {},
   "outputs": [],
   "source": [
    "train_samples = samples[:800]\n",
    "train_labels = labels[:800]\n",
    "\n",
    "test_samples = samples[800:]\n",
    "test_labels = labels[800:]"
   ]
  },
  {
   "cell_type": "markdown",
   "id": "266337df",
   "metadata": {},
   "source": [
    "next time:\n",
    "- look at other NLP/deep learning preprocessing pipelines/models\n",
    "- santiy check with existing poetry generator -- if we feed our corpus of poems into an existing model, does it produce good poem-y poems? is there issues with newlines/punctuation?\n",
    "- check how glove pretrained model deals with punctuation --> how to encode\n",
    "- look into how many words in our vocabulary are unknown by the glove pretrained model\n",
    "- create embedding matrix using pretrained glove model (dealing with unknown/infrequent words?)\n",
    "- still use word indexing (like we did with previous model); embedding matrix maps the word index to glove word vector\n",
    "- use keras embedding layer to turn vector of word indices into a matrix and create new model using convolution etc"
   ]
  },
  {
   "cell_type": "code",
   "execution_count": 13,
   "id": "1bd42867",
   "metadata": {},
   "outputs": [
    {
     "name": "stderr",
     "output_type": "stream",
     "text": [
      "2022-03-10 22:02:22.235602: I tensorflow/core/platform/cpu_feature_guard.cc:151] This TensorFlow binary is optimized with oneAPI Deep Neural Network Library (oneDNN) to use the following CPU instructions in performance-critical operations:  AVX2 AVX512F FMA\n",
      "To enable them in other operations, rebuild TensorFlow with the appropriate compiler flags.\n"
     ]
    }
   ],
   "source": [
    "train_dataset = tf.data.Dataset.from_tensor_slices((np.array(train_samples), np.array(train_labels)))"
   ]
  },
  {
   "cell_type": "code",
   "execution_count": 14,
   "id": "10da50c6",
   "metadata": {},
   "outputs": [
    {
     "data": {
      "text/plain": [
       "331"
      ]
     },
     "execution_count": 14,
     "metadata": {},
     "output_type": "execute_result"
    }
   ],
   "source": [
    "import re\n",
    "\n",
    "# find max number of words in a poem\n",
    "tokenized = [re.findall(r\"[\\w']+|[.,!?;-]\", s) for s in samples]\n",
    "input_size = max(list(map(len, tokenized)))\n",
    "input_size"
   ]
  },
  {
   "cell_type": "code",
   "execution_count": 15,
   "id": "8b08cb23",
   "metadata": {},
   "outputs": [],
   "source": [
    "import tensorflow_text as tf_text   \n",
    "\n",
    "def pad_punc_lower(strs):\n",
    "    strs = tf.strings.lower(strs)\n",
    "    strs = tf.strings.regex_replace(strs, '([.,!?();—:\\'’‘”/\"&“])', ' \\1 ')\n",
    "    strs = tf.strings.regex_replace(strs, '\\s{2,}', ' ')\n",
    "    return strs\n",
    "\n",
    "vectorizer = TextVectorization(\n",
    "    output_sequence_length=input_size,\n",
    "    standardize=pad_punc_lower\n",
    ")\n",
    "text_ds = tf.data.Dataset.from_tensor_slices(samples).batch(128)\n",
    "vectorizer.adapt(text_ds)"
   ]
  },
  {
   "cell_type": "code",
   "execution_count": 16,
   "id": "ae5d9452",
   "metadata": {},
   "outputs": [],
   "source": [
    "voc = vectorizer.get_vocabulary()\n",
    "word_index = dict(zip(voc, range(len(voc))))"
   ]
  },
  {
   "cell_type": "code",
   "execution_count": 17,
   "id": "cca574b2",
   "metadata": {},
   "outputs": [
    {
     "name": "stdout",
     "output_type": "stream",
     "text": [
      "found 400000 word vectors\n"
     ]
    }
   ],
   "source": [
    "glove_fname = \"../glove.6B.100d.txt\"\n",
    "\n",
    "embeddings_index = {}\n",
    "with open(glove_fname, 'r') as f:\n",
    "    for line in f:\n",
    "        word, coefs = line.split(maxsplit=1)\n",
    "        coefs = np.fromstring(coefs, \"f\", sep=\" \")\n",
    "        embeddings_index[word] = coefs\n",
    "\n",
    "print(\"found %d word vectors\" % len(embeddings_index))"
   ]
  },
  {
   "cell_type": "code",
   "execution_count": 18,
   "id": "4ca91ea7",
   "metadata": {
    "scrolled": false
   },
   "outputs": [
    {
     "name": "stdout",
     "output_type": "stream",
     "text": [
      "converted 10952 words (1570 misses)\n"
     ]
    }
   ],
   "source": [
    "num_tokens = len(voc) + 2\n",
    "embedding_dim = 100\n",
    "hits = 0\n",
    "misses = 0\n",
    "\n",
    "# prepare embedding matrix\n",
    "embedding_matrix = np.zeros((num_tokens, embedding_dim))\n",
    "for word, i in word_index.items():\n",
    "    embedding_vector = embeddings_index.get(word)\n",
    "    if embedding_vector is not None:\n",
    "        embedding_matrix[i] = embedding_vector\n",
    "        hits += 1\n",
    "    else:\n",
    "#         print(word)\n",
    "        misses += 1\n",
    "print(\"converted %d words (%d misses)\" % (hits, misses))"
   ]
  },
  {
   "cell_type": "code",
   "execution_count": 19,
   "id": "c16b3475",
   "metadata": {},
   "outputs": [],
   "source": [
    "from tensorflow.keras.layers import Embedding\n",
    "from keras.initializers import Constant\n",
    "\n",
    "embedding_layer = Embedding(\n",
    "    num_tokens,\n",
    "    embedding_dim,\n",
    "    embeddings_initializer=Constant(embedding_matrix),\n",
    "    trainable=False\n",
    ")"
   ]
  },
  {
   "cell_type": "code",
   "execution_count": 20,
   "id": "700d96be",
   "metadata": {},
   "outputs": [
    {
     "name": "stdout",
     "output_type": "stream",
     "text": [
      "Model: \"sequential\"\n",
      "_________________________________________________________________\n",
      " Layer (type)                Output Shape              Param #   \n",
      "=================================================================\n",
      " embedding (Embedding)       (None, 331, 100)          1252400   \n",
      "                                                                 \n",
      " conv1d (Conv1D)             (None, 327, 128)          64128     \n",
      "                                                                 \n",
      " max_pooling1d (MaxPooling1D  (None, 65, 128)          0         \n",
      " )                                                               \n",
      "                                                                 \n",
      " conv1d_1 (Conv1D)           (None, 61, 128)           82048     \n",
      "                                                                 \n",
      " max_pooling1d_1 (MaxPooling  (None, 12, 128)          0         \n",
      " 1D)                                                             \n",
      "                                                                 \n",
      " conv1d_2 (Conv1D)           (None, 8, 128)            82048     \n",
      "                                                                 \n",
      " global_max_pooling1d (Globa  (None, 128)              0         \n",
      " lMaxPooling1D)                                                  \n",
      "                                                                 \n",
      " dense (Dense)               (None, 128)               16512     \n",
      "                                                                 \n",
      " dense_1 (Dense)             (None, 14)                1806      \n",
      "                                                                 \n",
      "=================================================================\n",
      "Total params: 1,498,942\n",
      "Trainable params: 246,542\n",
      "Non-trainable params: 1,252,400\n",
      "_________________________________________________________________\n"
     ]
    }
   ],
   "source": [
    "from tensorflow.keras import layers\n",
    "import keras\n",
    "\n",
    "\n",
    "model = tf.keras.Sequential()\n",
    "model.add(keras.Input(shape=(331), dtype=\"int64\"))\n",
    "model.add(embedding_layer)\n",
    "model.add(layers.Conv1D(128, 5, activation=\"relu\"))\n",
    "model.add(layers.MaxPooling1D(5))\n",
    "model.add(layers.Conv1D(128, 5, activation=\"relu\"))\n",
    "model.add(layers.MaxPooling1D(5))\n",
    "model.add(layers.Conv1D(128, 5, activation=\"relu\"))\n",
    "model.add(layers.GlobalMaxPooling1D())\n",
    "model.add(layers.Dense(128, activation=\"relu\"))\n",
    "model.add(layers.Dense(14, activation=\"relu\"))\n",
    "\n",
    "model.summary()"
   ]
  },
  {
   "cell_type": "code",
   "execution_count": 21,
   "id": "7f850faf",
   "metadata": {},
   "outputs": [],
   "source": [
    "def tokens2input_vec(tokens):\n",
    "    return vectorizer(np.array([[s] for s in tokens])).numpy()\n",
    "\n",
    "X_train = tokens2input_vec(train_samples)\n",
    "X_val = vectorizer(np.array([[s] for s in test_samples])).numpy()\n",
    "\n",
    "Y_train = np.array(train_labels)\n",
    "Y_val = np.array(test_labels)"
   ]
  },
  {
   "cell_type": "code",
   "execution_count": 38,
   "id": "a647e454",
   "metadata": {},
   "outputs": [
    {
     "name": "stdout",
     "output_type": "stream",
     "text": [
      "Epoch 1/100\n",
      "40/40 [==============================] - 2s 29ms/step - loss: 4.9595 - acc: 0.5412 - val_loss: 7.8310 - val_acc: 0.0505\n",
      "Epoch 2/100\n",
      "40/40 [==============================] - 1s 28ms/step - loss: 4.6797 - acc: 0.6388 - val_loss: 7.7438 - val_acc: 0.0404\n",
      "Epoch 3/100\n",
      "40/40 [==============================] - 1s 29ms/step - loss: 4.6187 - acc: 0.6575 - val_loss: 7.6955 - val_acc: 0.0505\n",
      "Epoch 4/100\n",
      "40/40 [==============================] - 1s 26ms/step - loss: 4.6045 - acc: 0.6538 - val_loss: 7.7443 - val_acc: 0.0303\n",
      "Epoch 5/100\n",
      "40/40 [==============================] - 1s 26ms/step - loss: 4.6543 - acc: 0.6575 - val_loss: 7.7331 - val_acc: 0.0505\n",
      "Epoch 6/100\n",
      "40/40 [==============================] - 1s 27ms/step - loss: 4.7308 - acc: 0.6388 - val_loss: 7.7983 - val_acc: 0.0606\n",
      "Epoch 7/100\n",
      "40/40 [==============================] - 1s 27ms/step - loss: 4.6990 - acc: 0.6463 - val_loss: 7.7605 - val_acc: 0.0303\n",
      "Epoch 8/100\n",
      "40/40 [==============================] - 1s 25ms/step - loss: 2.1873 - acc: 0.5163 - val_loss: 4.1242 - val_acc: 0.0404\n",
      "Epoch 9/100\n",
      "40/40 [==============================] - 1s 26ms/step - loss: 0.5628 - acc: 0.5587 - val_loss: 4.6685 - val_acc: 0.0808\n",
      "Epoch 10/100\n",
      "40/40 [==============================] - 1s 26ms/step - loss: 0.6016 - acc: 0.6125 - val_loss: 3.9820 - val_acc: 0.0505\n",
      "Epoch 11/100\n",
      "40/40 [==============================] - 1s 26ms/step - loss: 0.4120 - acc: 0.5975 - val_loss: 4.0125 - val_acc: 0.0404\n",
      "Epoch 12/100\n",
      "40/40 [==============================] - 1s 25ms/step - loss: 0.3321 - acc: 0.6263 - val_loss: 4.0170 - val_acc: 0.1010\n",
      "Epoch 13/100\n",
      "40/40 [==============================] - 1s 26ms/step - loss: 0.3118 - acc: 0.6300 - val_loss: 3.9566 - val_acc: 0.0808\n",
      "Epoch 14/100\n",
      "40/40 [==============================] - 1s 26ms/step - loss: 0.2821 - acc: 0.6450 - val_loss: 4.0390 - val_acc: 0.0808\n",
      "Epoch 15/100\n",
      "40/40 [==============================] - 1s 25ms/step - loss: 0.2975 - acc: 0.6500 - val_loss: 4.0241 - val_acc: 0.0606\n",
      "Epoch 16/100\n",
      "40/40 [==============================] - 1s 26ms/step - loss: 0.3170 - acc: 0.6350 - val_loss: 3.9882 - val_acc: 0.0606\n",
      "Epoch 17/100\n",
      "40/40 [==============================] - 1s 26ms/step - loss: 0.2182 - acc: 0.6438 - val_loss: 4.0346 - val_acc: 0.0606\n",
      "Epoch 18/100\n",
      "40/40 [==============================] - 1s 27ms/step - loss: 0.2144 - acc: 0.6625 - val_loss: 4.2391 - val_acc: 0.0606\n",
      "Epoch 19/100\n",
      "40/40 [==============================] - 1s 27ms/step - loss: 0.1864 - acc: 0.6900 - val_loss: 3.9871 - val_acc: 0.0404\n",
      "Epoch 20/100\n",
      "40/40 [==============================] - 1s 27ms/step - loss: 0.1954 - acc: 0.6687 - val_loss: 4.0746 - val_acc: 0.0606\n",
      "Epoch 21/100\n",
      "40/40 [==============================] - 1s 27ms/step - loss: 0.1329 - acc: 0.6888 - val_loss: 4.0886 - val_acc: 0.0404\n",
      "Epoch 22/100\n",
      "40/40 [==============================] - 1s 27ms/step - loss: 0.1993 - acc: 0.6725 - val_loss: 3.9915 - val_acc: 0.0606\n",
      "Epoch 23/100\n",
      "40/40 [==============================] - 1s 26ms/step - loss: 0.1240 - acc: 0.6787 - val_loss: 4.0630 - val_acc: 0.0404\n",
      "Epoch 24/100\n",
      "40/40 [==============================] - 1s 26ms/step - loss: 0.1352 - acc: 0.6712 - val_loss: 4.0566 - val_acc: 0.0303\n",
      "Epoch 25/100\n",
      "40/40 [==============================] - 1s 28ms/step - loss: 0.1100 - acc: 0.7025 - val_loss: 4.0356 - val_acc: 0.0505\n",
      "Epoch 26/100\n",
      "40/40 [==============================] - 1s 27ms/step - loss: 0.1257 - acc: 0.6825 - val_loss: 4.0148 - val_acc: 0.0404\n",
      "Epoch 27/100\n",
      "40/40 [==============================] - 1s 28ms/step - loss: 0.1703 - acc: 0.6513 - val_loss: 3.9750 - val_acc: 0.0303\n",
      "Epoch 28/100\n",
      "40/40 [==============================] - 1s 27ms/step - loss: 0.1730 - acc: 0.7138 - val_loss: 4.1357 - val_acc: 0.0404\n",
      "Epoch 29/100\n",
      "40/40 [==============================] - 1s 27ms/step - loss: 0.1257 - acc: 0.6850 - val_loss: 4.0501 - val_acc: 0.0404\n",
      "Epoch 30/100\n",
      "40/40 [==============================] - 1s 26ms/step - loss: 0.1455 - acc: 0.6837 - val_loss: 4.0064 - val_acc: 0.0505\n",
      "Epoch 31/100\n",
      "40/40 [==============================] - 1s 25ms/step - loss: 0.0956 - acc: 0.6750 - val_loss: 3.9979 - val_acc: 0.0404\n",
      "Epoch 32/100\n",
      "40/40 [==============================] - 1s 26ms/step - loss: 0.0901 - acc: 0.7025 - val_loss: 3.9554 - val_acc: 0.0303\n",
      "Epoch 33/100\n",
      "40/40 [==============================] - 1s 25ms/step - loss: 0.0781 - acc: 0.6800 - val_loss: 3.9710 - val_acc: 0.0303\n",
      "Epoch 34/100\n",
      "40/40 [==============================] - 1s 26ms/step - loss: 0.0903 - acc: 0.6888 - val_loss: 3.9335 - val_acc: 0.0505\n",
      "Epoch 35/100\n",
      "40/40 [==============================] - 1s 27ms/step - loss: 0.0838 - acc: 0.6812 - val_loss: 3.9504 - val_acc: 0.0404\n",
      "Epoch 36/100\n",
      "40/40 [==============================] - 1s 26ms/step - loss: 0.1070 - acc: 0.6750 - val_loss: 3.9411 - val_acc: 0.0505\n",
      "Epoch 37/100\n",
      "40/40 [==============================] - 1s 27ms/step - loss: 0.0970 - acc: 0.6687 - val_loss: 3.9455 - val_acc: 0.0404\n",
      "Epoch 38/100\n",
      "40/40 [==============================] - 1s 26ms/step - loss: 0.1439 - acc: 0.6812 - val_loss: 4.0084 - val_acc: 0.0202\n",
      "Epoch 39/100\n",
      "40/40 [==============================] - 1s 25ms/step - loss: 0.0962 - acc: 0.6975 - val_loss: 4.3025 - val_acc: 0.0303\n",
      "Epoch 40/100\n",
      "40/40 [==============================] - 1s 28ms/step - loss: 0.1867 - acc: 0.6712 - val_loss: 4.0826 - val_acc: 0.0404\n",
      "Epoch 41/100\n",
      "40/40 [==============================] - 1s 28ms/step - loss: 0.1012 - acc: 0.6762 - val_loss: 3.9329 - val_acc: 0.0505\n",
      "Epoch 42/100\n",
      "40/40 [==============================] - 1s 27ms/step - loss: 0.0620 - acc: 0.6675 - val_loss: 3.9646 - val_acc: 0.0505\n",
      "Epoch 43/100\n",
      "40/40 [==============================] - 1s 27ms/step - loss: 0.0392 - acc: 0.6687 - val_loss: 3.9517 - val_acc: 0.0303\n",
      "Epoch 44/100\n",
      "40/40 [==============================] - 1s 27ms/step - loss: 0.0323 - acc: 0.7013 - val_loss: 3.9369 - val_acc: 0.0303\n",
      "Epoch 45/100\n",
      "40/40 [==============================] - 1s 27ms/step - loss: 0.0351 - acc: 0.6925 - val_loss: 3.9186 - val_acc: 0.0303\n",
      "Epoch 46/100\n",
      "40/40 [==============================] - 1s 31ms/step - loss: 0.0462 - acc: 0.6712 - val_loss: 3.9109 - val_acc: 0.0303\n",
      "Epoch 47/100\n",
      "40/40 [==============================] - 2s 39ms/step - loss: 0.0638 - acc: 0.6812 - val_loss: 3.9288 - val_acc: 0.0404\n",
      "Epoch 48/100\n",
      "40/40 [==============================] - 1s 34ms/step - loss: 0.1081 - acc: 0.6862 - val_loss: 3.9973 - val_acc: 0.0606\n",
      "Epoch 49/100\n",
      "40/40 [==============================] - 1s 31ms/step - loss: 0.2198 - acc: 0.6825 - val_loss: 4.1686 - val_acc: 0.0505\n",
      "Epoch 50/100\n",
      "40/40 [==============================] - 1s 35ms/step - loss: 0.2082 - acc: 0.6750 - val_loss: 3.8660 - val_acc: 0.0404\n",
      "Epoch 51/100\n",
      "40/40 [==============================] - 1s 32ms/step - loss: 0.2834 - acc: 0.6488 - val_loss: 4.3379 - val_acc: 0.0505\n",
      "Epoch 52/100\n",
      "40/40 [==============================] - 1s 34ms/step - loss: 0.2538 - acc: 0.6538 - val_loss: 3.9089 - val_acc: 0.0707\n",
      "Epoch 53/100\n",
      "40/40 [==============================] - 1s 26ms/step - loss: 0.2446 - acc: 0.6662 - val_loss: 3.9750 - val_acc: 0.0303\n",
      "Epoch 54/100\n",
      "40/40 [==============================] - 1s 30ms/step - loss: 0.1484 - acc: 0.6500 - val_loss: 3.9093 - val_acc: 0.0303\n",
      "Epoch 55/100\n",
      "40/40 [==============================] - 1s 32ms/step - loss: 0.1787 - acc: 0.6687 - val_loss: 3.9286 - val_acc: 0.0202\n",
      "Epoch 56/100\n",
      "40/40 [==============================] - 1s 33ms/step - loss: 0.1269 - acc: 0.6687 - val_loss: 3.8574 - val_acc: 0.0404\n",
      "Epoch 57/100\n",
      "40/40 [==============================] - 1s 29ms/step - loss: 0.1227 - acc: 0.6625 - val_loss: 3.9073 - val_acc: 0.0404\n",
      "Epoch 58/100\n",
      "40/40 [==============================] - 1s 28ms/step - loss: 0.1073 - acc: 0.6587 - val_loss: 3.8981 - val_acc: 0.0303\n",
      "Epoch 59/100\n",
      "40/40 [==============================] - 1s 27ms/step - loss: 0.1325 - acc: 0.6938 - val_loss: 3.9791 - val_acc: 0.0303\n",
      "Epoch 60/100\n",
      "40/40 [==============================] - 1s 27ms/step - loss: 0.0942 - acc: 0.6762 - val_loss: 3.8588 - val_acc: 0.0303\n",
      "Epoch 61/100\n",
      "40/40 [==============================] - 1s 27ms/step - loss: 0.1090 - acc: 0.6550 - val_loss: 3.8858 - val_acc: 0.0303\n",
      "Epoch 62/100\n"
     ]
    },
    {
     "name": "stdout",
     "output_type": "stream",
     "text": [
      "40/40 [==============================] - 1s 27ms/step - loss: 0.0947 - acc: 0.6762 - val_loss: 3.9262 - val_acc: 0.0202\n",
      "Epoch 63/100\n",
      "40/40 [==============================] - 1s 27ms/step - loss: 0.1173 - acc: 0.6988 - val_loss: 3.8965 - val_acc: 0.0202\n",
      "Epoch 64/100\n",
      "40/40 [==============================] - 1s 28ms/step - loss: 0.0959 - acc: 0.6513 - val_loss: 3.9388 - val_acc: 0.0404\n",
      "Epoch 65/100\n",
      "40/40 [==============================] - 1s 27ms/step - loss: 0.0950 - acc: 0.7013 - val_loss: 3.9695 - val_acc: 0.0303\n",
      "Epoch 66/100\n",
      "40/40 [==============================] - 1s 29ms/step - loss: 0.0670 - acc: 0.6750 - val_loss: 4.0617 - val_acc: 0.0404\n",
      "Epoch 67/100\n",
      "40/40 [==============================] - 1s 26ms/step - loss: 0.1762 - acc: 0.6750 - val_loss: 3.9775 - val_acc: 0.0303\n",
      "Epoch 68/100\n",
      "40/40 [==============================] - 1s 27ms/step - loss: 0.0994 - acc: 0.6988 - val_loss: 3.8848 - val_acc: 0.0404\n",
      "Epoch 69/100\n",
      "40/40 [==============================] - 1s 27ms/step - loss: 0.0533 - acc: 0.6775 - val_loss: 3.8996 - val_acc: 0.0303\n",
      "Epoch 70/100\n",
      "40/40 [==============================] - 1s 27ms/step - loss: 0.0340 - acc: 0.6862 - val_loss: 3.8875 - val_acc: 0.0303\n",
      "Epoch 71/100\n",
      "40/40 [==============================] - 1s 27ms/step - loss: 0.0286 - acc: 0.6812 - val_loss: 3.9096 - val_acc: 0.0303\n",
      "Epoch 72/100\n",
      "40/40 [==============================] - 1s 28ms/step - loss: 0.0319 - acc: 0.6800 - val_loss: 3.8821 - val_acc: 0.0303\n",
      "Epoch 73/100\n",
      "40/40 [==============================] - 1s 27ms/step - loss: 0.0252 - acc: 0.6900 - val_loss: 3.9017 - val_acc: 0.0404\n",
      "Epoch 74/100\n",
      "40/40 [==============================] - 1s 27ms/step - loss: 0.0288 - acc: 0.7038 - val_loss: 3.8957 - val_acc: 0.0202\n",
      "Epoch 75/100\n",
      "40/40 [==============================] - 1s 28ms/step - loss: 0.0454 - acc: 0.6625 - val_loss: 3.9142 - val_acc: 0.0404\n",
      "Epoch 76/100\n",
      "40/40 [==============================] - 1s 27ms/step - loss: 0.0504 - acc: 0.6963 - val_loss: 3.9171 - val_acc: 0.0303\n",
      "Epoch 77/100\n",
      "40/40 [==============================] - 1s 29ms/step - loss: 0.1283 - acc: 0.6875 - val_loss: 4.0244 - val_acc: 0.0303\n",
      "Epoch 78/100\n",
      "40/40 [==============================] - 1s 28ms/step - loss: 0.2007 - acc: 0.6812 - val_loss: 3.8972 - val_acc: 0.0303\n",
      "Epoch 79/100\n",
      "40/40 [==============================] - 1s 29ms/step - loss: 0.1467 - acc: 0.6712 - val_loss: 4.0216 - val_acc: 0.0404\n",
      "Epoch 80/100\n",
      "40/40 [==============================] - 1s 28ms/step - loss: 0.2475 - acc: 0.6750 - val_loss: 4.1587 - val_acc: 0.0606\n",
      "Epoch 81/100\n",
      "40/40 [==============================] - 1s 27ms/step - loss: 0.2371 - acc: 0.6712 - val_loss: 4.0135 - val_acc: 0.0404\n",
      "Epoch 82/100\n",
      "40/40 [==============================] - 1s 27ms/step - loss: 0.2793 - acc: 0.6800 - val_loss: 4.0103 - val_acc: 0.0202\n",
      "Epoch 83/100\n",
      "40/40 [==============================] - 1s 27ms/step - loss: 0.1326 - acc: 0.6825 - val_loss: 4.1683 - val_acc: 0.0303\n",
      "Epoch 84/100\n",
      "40/40 [==============================] - 1s 28ms/step - loss: 0.1899 - acc: 0.6812 - val_loss: 3.9214 - val_acc: 0.0404\n",
      "Epoch 85/100\n",
      "40/40 [==============================] - 1s 27ms/step - loss: 0.1513 - acc: 0.6600 - val_loss: 3.9377 - val_acc: 0.0404\n",
      "Epoch 86/100\n",
      "40/40 [==============================] - 1s 26ms/step - loss: 0.1385 - acc: 0.6913 - val_loss: 3.9457 - val_acc: 0.0404\n",
      "Epoch 87/100\n",
      "40/40 [==============================] - 1s 26ms/step - loss: 0.0996 - acc: 0.6800 - val_loss: 3.9044 - val_acc: 0.0303\n",
      "Epoch 88/100\n",
      "40/40 [==============================] - 1s 25ms/step - loss: 0.0760 - acc: 0.6675 - val_loss: 3.9500 - val_acc: 0.0303\n",
      "Epoch 89/100\n",
      "40/40 [==============================] - 1s 26ms/step - loss: 0.0824 - acc: 0.6875 - val_loss: 3.9029 - val_acc: 0.0404\n",
      "Epoch 90/100\n",
      "40/40 [==============================] - 1s 28ms/step - loss: 0.1073 - acc: 0.6850 - val_loss: 3.9907 - val_acc: 0.0202\n",
      "Epoch 91/100\n",
      "40/40 [==============================] - 1s 29ms/step - loss: 0.1030 - acc: 0.6712 - val_loss: 3.8860 - val_acc: 0.0404\n",
      "Epoch 92/100\n",
      "40/40 [==============================] - 1s 30ms/step - loss: 0.0911 - acc: 0.6787 - val_loss: 3.9461 - val_acc: 0.0202\n",
      "Epoch 93/100\n",
      "40/40 [==============================] - 1s 31ms/step - loss: 0.1117 - acc: 0.6762 - val_loss: 3.9078 - val_acc: 0.0303\n",
      "Epoch 94/100\n",
      "40/40 [==============================] - 1s 29ms/step - loss: 0.0893 - acc: 0.6950 - val_loss: 3.9159 - val_acc: 0.0303\n",
      "Epoch 95/100\n",
      "40/40 [==============================] - 1s 27ms/step - loss: 0.0748 - acc: 0.6675 - val_loss: 3.8952 - val_acc: 0.0404\n",
      "Epoch 96/100\n",
      "40/40 [==============================] - 1s 27ms/step - loss: 0.0772 - acc: 0.6662 - val_loss: 3.9019 - val_acc: 0.0303\n",
      "Epoch 97/100\n",
      "40/40 [==============================] - 1s 26ms/step - loss: 0.0673 - acc: 0.6837 - val_loss: 3.9160 - val_acc: 0.0303\n",
      "Epoch 98/100\n",
      "40/40 [==============================] - 1s 27ms/step - loss: 0.1087 - acc: 0.6963 - val_loss: 3.9387 - val_acc: 0.0505\n",
      "Epoch 99/100\n",
      "40/40 [==============================] - 1s 27ms/step - loss: 0.0989 - acc: 0.6762 - val_loss: 3.9668 - val_acc: 0.0404\n",
      "Epoch 100/100\n",
      "40/40 [==============================] - 1s 26ms/step - loss: 0.0544 - acc: 0.6975 - val_loss: 3.9057 - val_acc: 0.0505\n"
     ]
    },
    {
     "data": {
      "text/plain": [
       "<keras.callbacks.History at 0x7f94269ca940>"
      ]
     },
     "execution_count": 38,
     "metadata": {},
     "output_type": "execute_result"
    }
   ],
   "source": [
    "def poem_loss(y_true, y_pred):  \n",
    "#     tf.print(\"true\", type(y_true))\n",
    "#     tf.print(\"pred\", type(y_pred))\n",
    "    mse = tf.reduce_mean(tf.math.square(y_pred - y_true), axis=-1)\n",
    "    wsl = (tf.math.reduce_sum(y_true, 1) - tf.math.reduce_sum(y_pred, 1))**2\n",
    "    asdf = tf.math.reduce_sum(y_pred, 1)\n",
    "    \n",
    "    return mse + wsl\n",
    "\n",
    "model.compile(\n",
    "    loss=\"mse\", optimizer=\"adam\", metrics=[\"acc\"]\n",
    ")\n",
    "model.fit(X_train, Y_train, batch_size=20, epochs=100, validation_data=(X_val, Y_val))"
   ]
  },
  {
   "cell_type": "code",
   "execution_count": 39,
   "id": "58f2ae00",
   "metadata": {},
   "outputs": [
    {
     "name": "stdout",
     "output_type": "stream",
     "text": [
      "4/4 [==============================] - 0s 9ms/step - loss: 3.9057 - acc: 0.0505\n"
     ]
    },
    {
     "data": {
      "text/plain": [
       "[3.9057087898254395, 0.05050504952669144]"
      ]
     },
     "execution_count": 39,
     "metadata": {},
     "output_type": "execute_result"
    }
   ],
   "source": [
    "model.evaluate(X_val, Y_val)"
   ]
  },
  {
   "cell_type": "code",
   "execution_count": 25,
   "id": "0847a81e",
   "metadata": {},
   "outputs": [],
   "source": [
    "test_poem = poetry_df[poetry_df[\"Num_lines\"] == 14].iloc[10]"
   ]
  },
  {
   "cell_type": "code",
   "execution_count": 26,
   "id": "a96f4e1d",
   "metadata": {},
   "outputs": [
    {
     "data": {
      "text/plain": [
       "True"
      ]
     },
     "execution_count": 26,
     "metadata": {},
     "output_type": "execute_result"
    }
   ],
   "source": [
    "tokens = tokenize(test_poem[\"Content\"])\n",
    "input_vec = vectorizer(tokens)\n",
    "output_vec = content2output_vec(test_poem[\"Content\"], 14)\n",
    "input_vec in X_train"
   ]
  },
  {
   "cell_type": "code",
   "execution_count": 27,
   "id": "3d986017",
   "metadata": {},
   "outputs": [
    {
     "data": {
      "text/plain": [
       "array([[ 7.8897214,  8.807972 ,  9.261697 ,  7.320697 ,  6.6976423,\n",
       "         8.729455 ,  7.1269984,  4.8953433,  5.5677967,  7.316001 ,\n",
       "         6.3076706,  7.7160506,  0.       , 10.626973 ]], dtype=float32)"
      ]
     },
     "execution_count": 27,
     "metadata": {},
     "output_type": "execute_result"
    }
   ],
   "source": [
    "model.predict(np.array([input_vec]))"
   ]
  },
  {
   "cell_type": "code",
   "execution_count": 28,
   "id": "382ad9b5",
   "metadata": {},
   "outputs": [
    {
     "data": {
      "text/plain": [
       "[8, 9, 9, 7, 6, 9, 7, 5, 5, 7, 6, 8, 10, 10]"
      ]
     },
     "execution_count": 28,
     "metadata": {},
     "output_type": "execute_result"
    }
   ],
   "source": [
    "output_vec"
   ]
  },
  {
   "cell_type": "code",
   "execution_count": null,
   "id": "b6db31ac",
   "metadata": {},
   "outputs": [],
   "source": []
  },
  {
   "cell_type": "code",
   "execution_count": null,
   "id": "df7e9c28",
   "metadata": {},
   "outputs": [],
   "source": [
    "X_train.shape"
   ]
  },
  {
   "cell_type": "code",
   "execution_count": 40,
   "id": "be44967a",
   "metadata": {},
   "outputs": [],
   "source": [
    "news = \"\"\"So, for now, many governments are more urgently focused on reducing near term energy shocks, \n",
    "aiming to boost global oil production to replace the millions of barrels per day that Russia has historically \n",
    "exported but which is now being shunned by Western nations. The two goals aren’t necessarily at odds, officials \n",
    "in the United States and Europe say. Yet some fear that countries could become so consumed by the immediate \n",
    "energy crisis that they neglect longer term policies to cut reliance on fossil fuels — a myopia \n",
    "that could set the world up for more oil and gas shocks in the future as well as a dangerously overheated planet.\"\"\".replace('\\n', '')"
   ]
  },
  {
   "cell_type": "code",
   "execution_count": 41,
   "id": "266cd5a1",
   "metadata": {},
   "outputs": [],
   "source": [
    "input_vec = np.array([vectorizer(news)])"
   ]
  },
  {
   "cell_type": "code",
   "execution_count": 42,
   "id": "d099f489",
   "metadata": {},
   "outputs": [
    {
     "data": {
      "text/plain": [
       "array([[5.3594093, 6.985545 , 6.8548045, 6.4940505, 7.777894 , 6.937112 ,\n",
       "        6.7589064, 6.7502375, 5.866041 , 5.93838  , 7.7057476, 8.508035 ,\n",
       "        5.830035 , 7.255543 ]], dtype=float32)"
      ]
     },
     "execution_count": 42,
     "metadata": {},
     "output_type": "execute_result"
    }
   ],
   "source": [
    "pred = model.predict(input_vec)\n",
    "pred"
   ]
  },
  {
   "cell_type": "code",
   "execution_count": 43,
   "id": "02bf1523",
   "metadata": {},
   "outputs": [],
   "source": [
    "from math import ceil\n",
    "\n",
    "def poemize_prediction(content, pred):\n",
    "    content = content.split(' ')\n",
    "    s = 0\n",
    "    for i in pred[0]:\n",
    "        s += i+1\n",
    "        content.insert(int(ceil(s)), '\\n')\n",
    "    content = ' '.join(content)\n",
    "    return '\\n'.join([i.strip() for i in content.split('\\n')])\n",
    "\n",
    "def poemize_prediction2(content, pred):\n",
    "    content = content.split(' ')\n",
    "    print(content)"
   ]
  },
  {
   "cell_type": "code",
   "execution_count": 44,
   "id": "0c6ac15f",
   "metadata": {},
   "outputs": [
    {
     "name": "stdout",
     "output_type": "stream",
     "text": [
      "So, for now, many governments are more\n",
      "urgently focused on reducing near term energy\n",
      "shocks, aiming to boost global oil production\n",
      "to replace the millions of barrels\n",
      "per day that Russia has historically exported but\n",
      "which is now being shunned by Western\n",
      "nations. The two goals aren’t necessarily at\n",
      "odds, officials in the United States\n",
      "and Europe say. Yet some fear\n",
      "that countries could become so consumed\n",
      "by the immediate energy crisis that they neglect\n",
      "longer term policies to cut reliance on fossil\n",
      "fuels — a myopia that could\n",
      "set the world up for more oil and\n",
      "gas shocks in the future as well as a dangerously overheated planet.\n"
     ]
    }
   ],
   "source": [
    "print(poemize_prediction(news, pred))"
   ]
  },
  {
   "cell_type": "code",
   "execution_count": 270,
   "id": "73cc3ed7",
   "metadata": {},
   "outputs": [
    {
     "name": "stdout",
     "output_type": "stream",
     "text": [
      "Bank of France intervened to buy\n",
      "small amounts of dollars\n",
      "and sell yen in\n",
      "Paris today to\n",
      "\n",
      "stabilize exchange\n",
      "rates agreed at last\n",
      "month's meeting of\n",
      "Finance Ministers of the Group\n",
      "of Five and Canada. Dealers\n",
      "say recent central bank\n",
      "intervention in foreign exchange\n",
      "markets appeared to be\n",
      "a limited\n",
      "reaction to temporary pressures rather than a major defence operation.\n"
     ]
    }
   ],
   "source": [
    "news = \"Bank of France intervened to buy small amounts of dollars and sell yen in Paris today to stabilize exchange rates agreed at last month's meeting of Finance Ministers of the Group of Five and Canada. Dealers say recent central bank intervention in foreign exchange markets appeared to be a limited reaction to temporary pressures rather than a major defence operation.\"\n",
    "input_vec = np.array([vectorizer(news)])\n",
    "\n",
    "pred = model.predict(input_vec)\n",
    "print(poemize_prediction(news, pred))"
   ]
  },
  {
   "cell_type": "code",
   "execution_count": 215,
   "id": "6eaa8406",
   "metadata": {},
   "outputs": [
    {
     "ename": "NameError",
     "evalue": "name 'X_test' is not defined",
     "output_type": "error",
     "traceback": [
      "\u001b[0;31m---------------------------------------------------------------------------\u001b[0m",
      "\u001b[0;31mNameError\u001b[0m                                 Traceback (most recent call last)",
      "\u001b[0;32m/var/folders/qw/bnk4pzh55dd735pj2j085qz40000gn/T/ipykernel_19314/3624294392.py\u001b[0m in \u001b[0;36m<module>\u001b[0;34m\u001b[0m\n\u001b[0;32m----> 1\u001b[0;31m \u001b[0mX_test\u001b[0m\u001b[0;34m.\u001b[0m\u001b[0mshape\u001b[0m\u001b[0;34m\u001b[0m\u001b[0;34m\u001b[0m\u001b[0m\n\u001b[0m",
      "\u001b[0;31mNameError\u001b[0m: name 'X_test' is not defined"
     ]
    }
   ],
   "source": [
    "X_test.shape"
   ]
  },
  {
   "cell_type": "code",
   "execution_count": null,
   "id": "df9c0591",
   "metadata": {},
   "outputs": [],
   "source": []
  },
  {
   "cell_type": "markdown",
   "id": "bcf02829",
   "metadata": {},
   "source": [
    "**Input:** <br>\n",
    "So, for now, many governments are more urgently focused on reducing near term energy shocks, \n",
    "aiming to boost global oil production to replace the millions of barrels per day that Russia has historically \n",
    "exported but which is now being shunned by Western nations. The two goals aren’t necessarily at odds, officials \n",
    "in the United States and Europe say. Yet some fear that countries could become so consumed by the immediate \n",
    "energy crisis that they neglect longer term policies to cut reliance on fossil fuels — a myopia \n",
    "that could set the world up for more oil and gas shocks in the future as well as a dangerously overheated planet.<br>\n",
    "<br>\n",
    "**Model 2 output:** <br>\n",
    "So, for now, many governments are more<br>\n",
    "urgently focused on reducing near term energy<br>\n",
    "shocks, aiming to boost global oil production<br>\n",
    "to replace the millions of barrels<br>\n",
    "per day that Russia has historically exported but<br>\n",
    "which is now being shunned by Western<br>\n",
    "nations. The two goals aren’t necessarily at<br>\n",
    "odds, officials in the United States<br>\n",
    "and Europe say. Yet some fear<br>\n",
    "that countries could become so consumed<br>\n",
    "by the immediate energy crisis that they neglect<br>\n",
    "longer term policies to cut reliance on fossil<br>\n",
    "fuels — a myopia that could<br>\n",
    "set the world up for more oil and<br>\n",
    "gas shocks in the future as well as a dangerously overheated planet.<br>"
   ]
  },
  {
   "cell_type": "markdown",
   "id": "88712c7d",
   "metadata": {},
   "source": []
  },
  {
   "cell_type": "code",
   "execution_count": null,
   "id": "4e42a033",
   "metadata": {},
   "outputs": [],
   "source": []
  }
 ],
 "metadata": {
  "kernelspec": {
   "display_name": "Python 3 (ipykernel)",
   "language": "python",
   "name": "python3"
  },
  "language_info": {
   "codemirror_mode": {
    "name": "ipython",
    "version": 3
   },
   "file_extension": ".py",
   "mimetype": "text/x-python",
   "name": "python",
   "nbconvert_exporter": "python",
   "pygments_lexer": "ipython3",
   "version": "3.9.7"
  }
 },
 "nbformat": 4,
 "nbformat_minor": 5
}
