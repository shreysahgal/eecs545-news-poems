{
 "cells": [
  {
   "cell_type": "markdown",
   "id": "10d863f8",
   "metadata": {},
   "source": [
    "inspiration from\n",
    "https://github.com/llSourcell/How_to_make_a_text_summarizer/blob/master/vocabulary-embedding.ipynb"
   ]
  },
  {
   "cell_type": "code",
   "execution_count": 1,
   "id": "51b2545e",
   "metadata": {},
   "outputs": [],
   "source": [
    "import pandas as pd\n",
    "import numpy as np\n",
    "import pickle as pickle"
   ]
  },
  {
   "cell_type": "code",
   "execution_count": 2,
   "id": "be5893c4",
   "metadata": {},
   "outputs": [],
   "source": [
    "data_df = pd.read_csv(\"news_summary.csv\", encoding=\"ISO-8859-1\").dropna()"
   ]
  },
  {
   "cell_type": "code",
   "execution_count": 3,
   "id": "fb66f4c3",
   "metadata": {},
   "outputs": [
    {
     "data": {
      "text/html": [
       "<div>\n",
       "<style scoped>\n",
       "    .dataframe tbody tr th:only-of-type {\n",
       "        vertical-align: middle;\n",
       "    }\n",
       "\n",
       "    .dataframe tbody tr th {\n",
       "        vertical-align: top;\n",
       "    }\n",
       "\n",
       "    .dataframe thead th {\n",
       "        text-align: right;\n",
       "    }\n",
       "</style>\n",
       "<table border=\"1\" class=\"dataframe\">\n",
       "  <thead>\n",
       "    <tr style=\"text-align: right;\">\n",
       "      <th></th>\n",
       "      <th>author</th>\n",
       "      <th>date</th>\n",
       "      <th>headlines</th>\n",
       "      <th>read_more</th>\n",
       "      <th>text</th>\n",
       "      <th>ctext</th>\n",
       "    </tr>\n",
       "  </thead>\n",
       "  <tbody>\n",
       "    <tr>\n",
       "      <th>0</th>\n",
       "      <td>Chhavi Tyagi</td>\n",
       "      <td>03 Aug 2017,Thursday</td>\n",
       "      <td>Daman &amp; Diu revokes mandatory Rakshabandhan in...</td>\n",
       "      <td>http://www.hindustantimes.com/india-news/raksh...</td>\n",
       "      <td>The Administration of Union Territory Daman an...</td>\n",
       "      <td>The Daman and Diu administration on Wednesday ...</td>\n",
       "    </tr>\n",
       "    <tr>\n",
       "      <th>1</th>\n",
       "      <td>Daisy Mowke</td>\n",
       "      <td>03 Aug 2017,Thursday</td>\n",
       "      <td>Malaika slams user who trolled her for 'divorc...</td>\n",
       "      <td>http://www.hindustantimes.com/bollywood/malaik...</td>\n",
       "      <td>Malaika Arora slammed an Instagram user who tr...</td>\n",
       "      <td>From her special numbers to TV?appearances, Bo...</td>\n",
       "    </tr>\n",
       "    <tr>\n",
       "      <th>2</th>\n",
       "      <td>Arshiya Chopra</td>\n",
       "      <td>03 Aug 2017,Thursday</td>\n",
       "      <td>'Virgin' now corrected to 'Unmarried' in IGIMS...</td>\n",
       "      <td>http://www.hindustantimes.com/patna/bihar-igim...</td>\n",
       "      <td>The Indira Gandhi Institute of Medical Science...</td>\n",
       "      <td>The Indira Gandhi Institute of Medical Science...</td>\n",
       "    </tr>\n",
       "    <tr>\n",
       "      <th>3</th>\n",
       "      <td>Sumedha Sehra</td>\n",
       "      <td>03 Aug 2017,Thursday</td>\n",
       "      <td>Aaj aapne pakad liya: LeT man Dujana before be...</td>\n",
       "      <td>http://indiatoday.intoday.in/story/abu-dujana-...</td>\n",
       "      <td>Lashkar-e-Taiba's Kashmir commander Abu Dujana...</td>\n",
       "      <td>Lashkar-e-Taiba's Kashmir commander Abu Dujana...</td>\n",
       "    </tr>\n",
       "    <tr>\n",
       "      <th>4</th>\n",
       "      <td>Aarushi Maheshwari</td>\n",
       "      <td>03 Aug 2017,Thursday</td>\n",
       "      <td>Hotel staff to get training to spot signs of s...</td>\n",
       "      <td>http://indiatoday.intoday.in/story/sex-traffic...</td>\n",
       "      <td>Hotels in Maharashtra will train their staff t...</td>\n",
       "      <td>Hotels in Mumbai and other Indian cities are t...</td>\n",
       "    </tr>\n",
       "  </tbody>\n",
       "</table>\n",
       "</div>"
      ],
      "text/plain": [
       "               author                  date  \\\n",
       "0        Chhavi Tyagi  03 Aug 2017,Thursday   \n",
       "1         Daisy Mowke  03 Aug 2017,Thursday   \n",
       "2      Arshiya Chopra  03 Aug 2017,Thursday   \n",
       "3       Sumedha Sehra  03 Aug 2017,Thursday   \n",
       "4  Aarushi Maheshwari  03 Aug 2017,Thursday   \n",
       "\n",
       "                                           headlines  \\\n",
       "0  Daman & Diu revokes mandatory Rakshabandhan in...   \n",
       "1  Malaika slams user who trolled her for 'divorc...   \n",
       "2  'Virgin' now corrected to 'Unmarried' in IGIMS...   \n",
       "3  Aaj aapne pakad liya: LeT man Dujana before be...   \n",
       "4  Hotel staff to get training to spot signs of s...   \n",
       "\n",
       "                                           read_more  \\\n",
       "0  http://www.hindustantimes.com/india-news/raksh...   \n",
       "1  http://www.hindustantimes.com/bollywood/malaik...   \n",
       "2  http://www.hindustantimes.com/patna/bihar-igim...   \n",
       "3  http://indiatoday.intoday.in/story/abu-dujana-...   \n",
       "4  http://indiatoday.intoday.in/story/sex-traffic...   \n",
       "\n",
       "                                                text  \\\n",
       "0  The Administration of Union Territory Daman an...   \n",
       "1  Malaika Arora slammed an Instagram user who tr...   \n",
       "2  The Indira Gandhi Institute of Medical Science...   \n",
       "3  Lashkar-e-Taiba's Kashmir commander Abu Dujana...   \n",
       "4  Hotels in Maharashtra will train their staff t...   \n",
       "\n",
       "                                               ctext  \n",
       "0  The Daman and Diu administration on Wednesday ...  \n",
       "1  From her special numbers to TV?appearances, Bo...  \n",
       "2  The Indira Gandhi Institute of Medical Science...  \n",
       "3  Lashkar-e-Taiba's Kashmir commander Abu Dujana...  \n",
       "4  Hotels in Mumbai and other Indian cities are t...  "
      ]
     },
     "execution_count": 3,
     "metadata": {},
     "output_type": "execute_result"
    }
   ],
   "source": [
    "data_df.head()"
   ]
  },
  {
   "cell_type": "code",
   "execution_count": 4,
   "id": "dbe0e6bf",
   "metadata": {},
   "outputs": [],
   "source": [
    "summs = data_df.text.values\n",
    "texts = data_df.ctext.values"
   ]
  },
  {
   "cell_type": "code",
   "execution_count": 5,
   "id": "b97ec846",
   "metadata": {},
   "outputs": [
    {
     "data": {
      "text/plain": [
       "\"India's food regulator Food Safety and Standards Authority of India (FSSAI) is planning to create a network to collect leftover food and provide it to the needy. It is looking to connect with organisations which can collect, store and distribute leftover food from weddings and large parties. It further added that all food must meet the safety and hygiene standards.\""
      ]
     },
     "execution_count": 5,
     "metadata": {},
     "output_type": "execute_result"
    }
   ],
   "source": [
    "summs[10]"
   ]
  },
  {
   "cell_type": "code",
   "execution_count": 6,
   "id": "7d939b18",
   "metadata": {},
   "outputs": [
    {
     "data": {
      "text/plain": [
       "'The Food Safety and Standards Authority of India (FSSAI) is in the process of creating a network of food banking partners to collect and distribute leftover food from large parties and weddings to the hungry.A notification to create a separate category of food business operators (FBOs), who will be licensed to deal only with leftover food, has been drafted to ensure the quality of food.?We are looking at partnering with NGOs or organisations that collect, store and distribute surplus food to ensure they maintain certain hygiene and health standards when handling food,? said Pawan Agarwal, CEO of FSSAI.?Tonnes of food is wasted annually. We are looking at creating a mechanism through which food can be collected from restaurants, weddings, large-scale parties,?  says Pawan Agarwal, ?All food, whether it is paid for or distributed free, must meet the country?s food safety and hygiene standards,? he said.The organisations in the business of collecting leftover food will now have to work in collaboration with FSSAI so their efforts can be scaled up.?Tonnes of food is wasted annually and can be used to feed several thousands. We are looking at creating a mechanism through which food can be collected from restaurants, weddings, large-scale parties etc,? said Agarwal.The initiative will set up a helpline network where organisations can call in for collection but reaching individuals who want to directly donate food will take time. ?We will have a central helpline number. Reaching people at the household level may not be feasible initially but it is an integral part of the long-term plan,? he said. ?We have begun collecting names of people working in the sector. There are still a few months to go before the scheme materialises,? said Agarwal.?Collecting food going waste to feed the hungry is a noble thought but to transport, store and maintain the cold chain of cooked food is a huge challenge. The logistics are a nightmare, which is why we don?t handle leftovers and only distribute uncooked food that can be cooked locally,? said Kuldip Nar, founder of Delhi NCR Food Bank, which has been feeding the poor in 10 cities since 2011.'"
      ]
     },
     "execution_count": 6,
     "metadata": {},
     "output_type": "execute_result"
    }
   ],
   "source": [
    "texts[10]"
   ]
  },
  {
   "cell_type": "code",
   "execution_count": 7,
   "id": "f89b329c",
   "metadata": {},
   "outputs": [],
   "source": [
    "from collections import Counter\n",
    "from itertools import chain\n",
    "\n",
    "def get_vocab(lst):\n",
    "    vocab_count = Counter(w for txt in lst for w in txt.split())\n",
    "    vocab = map(lambda x: x[0], sorted(vocab_count.items(), key=lambda x: -x[1]))\n",
    "    return list(vocab), vocab_count"
   ]
  },
  {
   "cell_type": "code",
   "execution_count": 8,
   "id": "bd2246ac",
   "metadata": {},
   "outputs": [],
   "source": [
    "vocab, vocab_count = get_vocab(summs+texts)"
   ]
  },
  {
   "cell_type": "code",
   "execution_count": 9,
   "id": "b06b3c92",
   "metadata": {},
   "outputs": [
    {
     "data": {
      "image/png": "[encoded data removed]",
      "text/plain": [
       "<Figure size 432x288 with 1 Axes>"
      ]
     },
     "metadata": {
      "needs_background": "light"
     },
     "output_type": "display_data"
    }
   ],
   "source": [
    "import matplotlib.pyplot as plt\n",
    "%matplotlib inline\n",
    "plt.plot([vocab_count[w] for w in vocab]);\n",
    "plt.gca().set_xscale(\"log\")\n",
    "plt.gca().set_yscale(\"log\")\n",
    "plt.title('word distribution in headlines and description')\n",
    "plt.xlabel('rank')\n",
    "plt.ylabel('total appearances');"
   ]
  },
  {
   "cell_type": "code",
   "execution_count": 10,
   "id": "a35e1304",
   "metadata": {},
   "outputs": [],
   "source": [
    "empty = 0\n",
    "eos = 1\n",
    "start_idx = eos+1"
   ]
  },
  {
   "cell_type": "code",
   "execution_count": 21,
   "id": "06a90d14",
   "metadata": {},
   "outputs": [],
   "source": [
    "def get_idx(vocab, vocab_count):\n",
    "    word2idx = dict((word, idx+start_idx) for idx,word in enumerate(vocab))\n",
    "    word2idx['<empty>'] = empty\n",
    "    word2idx['<eos>'] = eos\n",
    "    \n",
    "    idx2word = dict((idx,word) for word,idx in iter(word2idx.items()))\n",
    "\n",
    "    return word2idx, idx2word"
   ]
  },
  {
   "cell_type": "code",
   "execution_count": 22,
   "id": "d67f1c97",
   "metadata": {},
   "outputs": [],
   "source": [
    "word2idx, idx2word = get_idx(vocab, vocab_count)"
   ]
  },
  {
   "cell_type": "code",
   "execution_count": 23,
   "id": "c6a61f7c",
   "metadata": {},
   "outputs": [],
   "source": [
    "for i in word2idx:\n",
    "    if word2idx[i] not in idx2word:\n",
    "        print(i, word2idx[i])"
   ]
  },
  {
   "cell_type": "code",
   "execution_count": 24,
   "id": "169ec3fb",
   "metadata": {},
   "outputs": [],
   "source": [
    "# read GloVe\n",
    "glove_name = 'glove.6B.100d.txt'\n",
    "glove_n_symbols = 400000"
   ]
  },
  {
   "cell_type": "code",
   "execution_count": 25,
   "id": "6a1d3ae5",
   "metadata": {},
   "outputs": [],
   "source": [
    "glove_index_dict = {}\n",
    "glove_embedding_weights = np.empty((glove_n_symbols, 100))\n",
    "global_scale = 0.1\n",
    "\n",
    "with open(glove_name, 'r') as f:\n",
    "    i = 0\n",
    "    for line in f:\n",
    "        line = line.strip().split()\n",
    "        w = line[0]\n",
    "        glove_index_dict[w] = i\n",
    "        glove_embedding_weights[i, :] = list(map(float, line[1:]))\n",
    "        i += 1"
   ]
  },
  {
   "cell_type": "code",
   "execution_count": 26,
   "id": "983709e7",
   "metadata": {},
   "outputs": [],
   "source": [
    "glove_embedding_weights *= global_scale"
   ]
  },
  {
   "cell_type": "code",
   "execution_count": 27,
   "id": "616926ad",
   "metadata": {},
   "outputs": [
    {
     "data": {
      "text/plain": [
       "0.04081572760019029"
      ]
     },
     "execution_count": 27,
     "metadata": {},
     "output_type": "execute_result"
    }
   ],
   "source": [
    "glove_embedding_weights.std()"
   ]
  },
  {
   "cell_type": "code",
   "execution_count": 28,
   "id": "c0597659",
   "metadata": {},
   "outputs": [],
   "source": [
    "for w, i in iter(glove_index_dict.items()):\n",
    "    w = w.lower()\n",
    "    if w not in glove_index_dict:\n",
    "        glove_index_dict[w] = i"
   ]
  },
  {
   "cell_type": "code",
   "execution_count": 29,
   "id": "e3b62426",
   "metadata": {},
   "outputs": [],
   "source": [
    "# embedding matrix\n",
    "# generate random embedding with same scale as glove\n",
    "\n",
    "np.random.seed(420)\n",
    "shape = (40000, 100)\n",
    "scale = glove_embedding_weights.std()*np.sqrt(12)/2 # uniform and not normal\n",
    "embedding = np.random.uniform(low=-scale, high=scale, size=shape)"
   ]
  },
  {
   "cell_type": "code",
   "execution_count": 30,
   "id": "468b1f2a",
   "metadata": {},
   "outputs": [
    {
     "name": "stdout",
     "output_type": "stream",
     "text": [
      "found 36448 tokens\n"
     ]
    }
   ],
   "source": [
    "import re\n",
    "\n",
    "c = 0\n",
    "for i in range(40000):\n",
    "    w = idx2word[i]\n",
    "    g = glove_index_dict.get(w, glove_index_dict.get(w.lower()))\n",
    "    if g is None:\n",
    "        w = re.sub(r'[^\\w\\s]', '', w)\n",
    "        g = glove_index_dict.get(w, glove_index_dict.get(w.lower()))\n",
    "    if g is not None:\n",
    "        embedding[i,:] = glove_embedding_weights[g,:]\n",
    "        c += 1\n",
    "print('found %d tokens' % c)"
   ]
  },
  {
   "cell_type": "code",
   "execution_count": 31,
   "id": "e5b11ac4",
   "metadata": {},
   "outputs": [],
   "source": [
    "glove_thold = 0.5\n",
    "\n",
    "word2glove = {}\n",
    "for w in word2idx:\n",
    "    if w in glove_index_dict:\n",
    "        g = w\n",
    "    elif w.lower() in glove_index_dict:\n",
    "        g = w.lower()\n",
    "    else:\n",
    "        w = re.sub(r'[^\\w\\s]', '', w)\n",
    "        if w in glove_index_dict:\n",
    "            g = w\n",
    "        else:\n",
    "            continue\n",
    "    word2glove[w] = g"
   ]
  },
  {
   "cell_type": "code",
   "execution_count": 32,
   "id": "cb004016",
   "metadata": {},
   "outputs": [
    {
     "name": "stdout",
     "output_type": "stream",
     "text": [
      "found 38702 subs\n"
     ]
    }
   ],
   "source": [
    "vocab_size = 40000\n",
    "normed_embedding = embedding/np.array([np.sqrt(np.dot(gweight,gweight)) for gweight in embedding])[:,None]\n",
    "nb_unknown_words = 100\n",
    "\n",
    "glove_match = []\n",
    "for w,idx in iter(word2idx.items()):\n",
    "    if w.isalpha() and w in word2glove:\n",
    "        gidx = glove_index_dict[word2glove[w]]\n",
    "        gweight = glove_embedding_weights[gidx,:].copy()\n",
    "        # find row in embedding that has the highest cos score with gweight\n",
    "        gweight /= np.sqrt(np.dot(gweight,gweight))\n",
    "        score = np.dot(normed_embedding[:vocab_size-nb_unknown_words], gweight)\n",
    "        while True:\n",
    "            embedding_idx = score.argmax()\n",
    "            s = score[embedding_idx]\n",
    "            if s < glove_thold:\n",
    "                break\n",
    "            if idx2word[embedding_idx] in word2glove :\n",
    "                glove_match.append((w, embedding_idx, s)) \n",
    "                break\n",
    "            score[embedding_idx] = -1\n",
    "glove_match.sort(key = lambda x: -x[2])\n",
    "print(\"found\", len(glove_match), \"subs\")"
   ]
  },
  {
   "cell_type": "code",
   "execution_count": 33,
   "id": "5e57095f",
   "metadata": {},
   "outputs": [
    {
     "name": "stdout",
     "output_type": "stream",
     "text": [
      "0.5004291434785999 snowflakes => balloons\n",
      "0.5003888562363068 Baloo => Calla\n",
      "0.500344059655436 stonewalled => shooed\n",
      "0.5003257062776547 stag => witch\n",
      "0.5003251390235002 deplaned => frisked\n",
      "0.5002325328167018 Gramenet => RGV\n",
      "0.5002269090627275 varsities => counter-terror\n",
      "0.5001958789135422 CTF => STF\n",
      "0.5001462362300133 Rigby => JuD\n",
      "0.5001229923163094 AIT => Azmi\n"
     ]
    }
   ],
   "source": [
    "for orig, sub, score in glove_match[-10:]:\n",
    "    print(score, orig, '=>', idx2word[sub])"
   ]
  },
  {
   "cell_type": "code",
   "execution_count": 34,
   "id": "78795b27",
   "metadata": {},
   "outputs": [],
   "source": [
    "glove_idx2idx = dict((word2idx[w], embedding_idx) for w, embedding_idx, _ in glove_match)"
   ]
  },
  {
   "cell_type": "code",
   "execution_count": 35,
   "id": "c7b86fd0",
   "metadata": {},
   "outputs": [
    {
     "name": "stdout",
     "output_type": "stream",
     "text": [
      "gram.\n",
      "down\".\n",
      "itself.\"\n",
      "like.\"\n",
      "TRP.\n",
      "choice\".\n",
      "backs.\"\n",
      "ends.\"\n",
      "Kriti.\n",
      "?5,000.\n",
      "You'.\n",
      "politics.\"\n",
      "them?\"\n",
      "fan\".\n",
      "unstoppable\".\n",
      "venues.\n",
      "accountability.\n",
      "Marshal.\n",
      "beforehand.\n",
      "absurd\".\n",
      "only\".\n",
      "freedom.\"\n",
      "rule.\"\n",
      "rights\".\n",
      "pensions.\n",
      "ammunitions.\n",
      "coming?\"\n",
      "films?\"\n",
      "excited.\"\n",
      "palate.\"\n",
      "warned.\"\n",
      "sportspersons.\n",
      "Jones.\n",
      "53%.\n",
      "Sidhwani.\n",
      "?serious?.\n",
      "relay.\n",
      "robbery.\n",
      "Goa.\"\n",
      "licence\".\n",
      "Colbert.\n",
      "'Heropanti'.\n",
      "bhai.\"\n",
      "Anju.\n",
      "(TOI).\n",
      "roll.\"\n",
      "Medal.\"\n",
      "offender.\n",
      "(NDTV).\n",
      "131.\n",
      "girl?\"\n",
      "derogatory.\n",
      "existence\".\n",
      "bogus.\n",
      "won.\"\n",
      "knotted.\n",
      "talk\".\n",
      "consumption\".\n",
      "make?\"\n",
      "legal.\"\n",
      "SL.\n",
      "Mars.\n",
      "activism\".\n",
      "forgotten.\"\n",
      "pan.\n",
      "1959.\n",
      "1959.\n",
      "breaststroke.\n",
      "world\".\n",
      "fun.\"\n",
      "[Azaan].\"\n",
      "biscuits.\n",
      "Band'.\n",
      "activities.\"\n",
      "Pakistan's.\n",
      "advantage.\"\n",
      "Pandith.\n",
      "Brexit.\n",
      "riders.\n",
      "Mithali.\n",
      "seconds\".\n",
      "businessmen.\n",
      "'impractical'.\n",
      "appreciation.\n",
      "looking.\"\n",
      "tougher.\n",
      "Badush.\n",
      "Shweta.\n",
      "action\".\n",
      "use'.\n",
      "figure\".\n",
      "ISIS.\"\n",
      "directed.\n",
      "followed.\"\n",
      "Elizabeth.\n",
      "lab.\n",
      "FBI\".\n",
      "okay\".\n",
      "Jayegi'.\n",
      "Koimoi).\n",
      "through\".\n",
      "members\".\n",
      "(HT).\n",
      "debt.\n",
      "temples\".\n",
      "Obamacare.\n",
      "inappropriately?\"\n",
      "Nicholls.\n",
      "Clothier.\n",
      "wrongdoing.\n",
      "visa.\"\n",
      "subscribers.\n",
      "fights.\"\n",
      "censored.\n",
      "minimal.\"\n",
      "Khurrana.\n",
      "Ghosh.\n",
      "NSE.\n",
      "robbery.\n",
      "hate.\"\n",
      "demanded.\n",
      "described.\n",
      "PDA.\"\n",
      "extortion.\n",
      "advocate.\n",
      "girls.\"\n",
      "seal.\n",
      "MGR.\n",
      "withheld.\n",
      "(HT).\n",
      "Sundays.\n",
      "Ranjan.\n",
      "technique.\"\n",
      "Dattu.\n",
      "wildfires.\n",
      "\"wonderful\".\n",
      "Rahman.\n",
      "business\".\n",
      "suited.\"\n",
      "raincoat.\n",
      "served.\n",
      "manner\".\n",
      "'Circuit'.\n",
      "men\".\n",
      "privacy.\"\n",
      "Why?\"\n",
      "cycle\".\n",
      "sledged.\n",
      "entering.\n",
      "Merchant.\n",
      "Karan'.\n",
      "Ranbir.\n",
      "extremists\".\n",
      "costs\".\n",
      "gentleman.\"\n",
      "'Broken'.\n",
      "months.\"\n",
      "Kambala.\"\n",
      "movements.\"\n",
      "shower.\"\n",
      "talented.\"\n",
      "Nikash.\n",
      "Paul.\n",
      "war?.\n",
      "slips.\"\n",
      "weeks.\"\n",
      "failure\".\n",
      "masterstroke.\n",
      "relationship\".\n",
      "audit.\n",
      "finish.\n",
      "Lakmé.\n",
      "destroy.\"\n",
      "dodging.\n",
      "attending.\n",
      "Sankranti.\n",
      "hits\".\n",
      "aim.\"\n",
      "onboard.\n",
      "'Sultan'.\n",
      "evaded.\n",
      "Azhar.\n",
      "government).\"\n",
      "harmony\".\n",
      "untraceable.\n",
      "artisans.\n",
      "danger.\"\n",
      "Ujjain.\n",
      "prizes.\n",
      "crunch.\"\n",
      "Nazir.\n",
      "'cycle'.\n",
      "defeated.\n",
      "jeweller.\n",
      "Pietersen.\n",
      "wrapped.\n",
      "unreliable.\n",
      "bit.\"\n",
      "'ignorant'.\n",
      "manuscript.\n",
      "backbone'.\n",
      "illiterates?\"\n",
      "prevalent.\n",
      "young.\"\n",
      "Becker.\n",
      "Raha.\n",
      "spirit.\"\n",
      "tensed.\n",
      "Nair.\n",
      "Secretary.\"\n",
      "Qualcomm.\n",
      "brakes.\n",
      "in\".\n",
      "Group\".\n",
      "flawed\".\n",
      "'Piku'.\n",
      "Esha.\n",
      "bad\".\n",
      "nepotism.\"\n",
      "'Mom'.\n",
      "money.\"\n",
      "anyone?\"\n",
      "reception.\"\n",
      "stakeholder.\"\n",
      "?25,000.\n",
      "flops.\"\n",
      "refuge.\n",
      "monks.\n",
      "collectively.\"\n",
      "suing.\"\n",
      "high\".\n",
      "mind.\"\n",
      "Kirti.\n",
      "'Logan'.\n",
      "is.\"\n",
      "Mayweather.\n",
      "allowances.\n",
      "1937.\n",
      "like'.\n",
      "disturbing.\"\n",
      "None.\n",
      "bursts.\n",
      "wish!\"\n",
      "conspiracy.\"\n",
      "'leasing'?\"\n",
      "reserve.\n",
      "Gandhiji.\"\n",
      "you\".\n",
      "singles.\n",
      "mammals.\"\n",
      "lawyers\".\n",
      "Sridevi.\"\n",
      "needed.\"\n",
      "respect.\"\n",
      "blood.\"\n",
      "Gorkhas.\n",
      "will.\"\n",
      "person.\"\n",
      "30%.\n",
      "served.\n",
      "unintentional\".\n",
      "trolls.\"\n",
      "baggage.\"\n",
      "survived.\"\n",
      "warns.\n",
      "submarines.\n",
      "Sejal'.\n",
      "always.\"\n",
      "showcased.\n",
      "gaye.\"\n",
      "RTI.\n",
      "forgiven.\n",
      "Muslims?\"\n",
      "themselves\".\n",
      "territory\".\n",
      "1959.\n",
      "acceptable.\"\n",
      "booking.\n",
      "Ankita.\n",
      "forces.\"\n",
      "shareholding.\n",
      "Remo.\n",
      "situations.\"\n",
      "nation\".\n",
      "magnet.\n",
      "overhead.\n",
      "Priyanka.\n",
      "discipline\".\n",
      "politics.\"\n",
      "hands\".\n",
      "Mohan.\n",
      "past.\"\n",
      "Bangar.\n",
      "retrieved.\n",
      "1953.\n",
      "unknown.\n",
      "silhouette.\n",
      "erupt.\n",
      "rupee.\n",
      "relationships.\"\n",
      "scale.\"\n",
      "adopted.\n",
      "vermillion.\n",
      "farmhouses.\n",
      "Saif.\n",
      "cow).\"\n",
      "\"delicious.\"\n",
      "researcher.\n",
      "IITians.\n",
      "superstition.\n",
      "legend!!\"\n",
      "insulin.\n",
      "preacher.\n",
      "me?)\"\n",
      "child.\"\n",
      "satellites.\n",
      "press\".\n",
      "altar.\n",
      "enquiries.\n",
      "expression'.\n",
      "processor.\n",
      "crew.\"\n",
      "(HT).\n",
      ":-D.\"\n",
      "Tesla.\"\n",
      "actions.\"\n",
      "malpractices.\n",
      "disabilities).\n",
      "story.\"\n",
      "genes.\"\n",
      "cost\".\n",
      "modesty.\n",
      "Randamoozham.\n",
      "husband'.\n",
      "choppers.\n",
      "night.\"\n",
      "Indian.'\n",
      "detention.\n",
      "Shaikh.\n",
      "Vineeth.\n",
      "war.\"\n",
      "Shraddha.\n",
      "infected.\n",
      "cool.\"\n",
      "functions.\"\n",
      "Lathkar.\n",
      "IAS.\n",
      "Kashmiris.\n",
      "ignorance\".\n",
      "good.\"\n",
      "law\".\n",
      "fitness.\"\n",
      "only.\"\n",
      "image.\"\n",
      "triggers.\n",
      "involvement.\n",
      "slipper.\n",
      "Pawan.\n",
      "victory.\"\n",
      "brands.\"\n",
      "'hijra'.\n",
      "Nikalo\".\n",
      "hackathon.\n",
      "Muntari.\n",
      "Convenor.\n",
      "name'.\n",
      "hindrances.\"\n",
      "baton.\n",
      "Lee.\n",
      "Tofler.\n",
      "rooms.\"\n",
      "experienced.\"\n",
      "leagues.\n",
      "pensions.\n",
      "cricket.\"\n",
      "Manohar.\n",
      "service!\"\n",
      "Haisha.\n",
      "honour.\"\n",
      "nowhere.\"\n",
      "leather.\n",
      "supreme.\"\n",
      "campaign\".\n",
      "Ohanian.\n",
      "skulls.\n",
      "overcrowded.\n",
      "TCS.\n",
      "lasers.\n",
      "physique.\n",
      "episodes.\n",
      "Jaago.\"\n",
      "disobedience'.\n",
      "footpath.\n",
      "thought.\"\n",
      "fake.\"\n",
      "Girl!'\n",
      "Balochistan\".\n",
      "dating.\n",
      "staffer.\n",
      "consortium.\n",
      "yourself.\"\n",
      "crematorium.\n",
      "justification\".\n",
      "condemnation.\n",
      "profiling.\n",
      "EVM.\n",
      "'Phillauri'.\n",
      "commodities.\n",
      "documentation.\n",
      "(NDTV).\n",
      "nationals.\n",
      "fridge.\n",
      "responsibility\".\n",
      "Budgam.\n",
      "2018'.\n",
      "depressed.\n",
      "Nitara.\n",
      "Bahuguna.\n",
      "puppies.\n",
      "stunned.\"\n",
      "rarest.\n",
      "skirmish.\n",
      "Jones.\n",
      "measure.\"\n",
      "Butt.\n",
      "(Shamshaan).\n",
      "enough.\"\n",
      "pitches.\n",
      "feel.\"\n",
      "contested.\n",
      "Khattar.\n",
      "lesser\".\n",
      "Vidya.\n",
      "metals.\"\n",
      "MGP.\n",
      "27%.\n",
      "listen.\n",
      "Rasool.\n",
      "mirror.\n",
      "competing.\n",
      "impression.\"\n",
      "loss\".\n",
      "discharge.\n",
      "sorry.\"\n",
      "Test\".\n",
      "Saurabh.\n",
      "Babita.\n",
      "calls.\"\n",
      "them?\"\n",
      "did\".\n",
      "did\".\n",
      "\"fun\".\n",
      "\"optimum\".\n"
     ]
    },
    {
     "data": {
      "text/plain": [
       "4396"
      ]
     },
     "execution_count": 35,
     "metadata": {},
     "output_type": "execute_result"
    }
   ],
   "source": [
    "# data vis\n",
    "Y = list()\n",
    "for summ in summs:\n",
    "    y = list()\n",
    "    for token in summ.split():\n",
    "        if len(token) < 3:\n",
    "            continue\n",
    "        if token in word2idx:\n",
    "            y.append(word2idx[token])\n",
    "        elif token.lower() in word2idx:\n",
    "            y.append(word2idx[token.lower()])\n",
    "        elif re.sub(r'[^\\w\\s]', '', token) in word2idx:\n",
    "            print(token)\n",
    "            y.append(re.sub(r'[^\\w\\s]', '', token))\n",
    "    Y.append(y)\n",
    "len(Y)"
   ]
  },
  {
   "cell_type": "code",
   "execution_count": 36,
   "id": "020d14cb",
   "metadata": {},
   "outputs": [
    {
     "data": {
      "text/plain": [
       "(array([  1.,   0.,   0.,   0.,   0.,   0.,   2.,   0.,   4.,   0.,   7.,\n",
       "          0.,  22.,   0.,  28.,   0.,  53.,   0.,  89.,   0., 133.,   0.,\n",
       "        201.,   0., 287.,   0., 384.,   0., 450.,   0., 539.,   0., 575.,\n",
       "          0., 524.,   0., 431.,   0., 313.,   0., 181.,   0., 110.,   0.,\n",
       "         39.,   0.,  21.,   0.,   0.,   2.]),\n",
       " array([33. , 33.5, 34. , 34.5, 35. , 35.5, 36. , 36.5, 37. , 37.5, 38. ,\n",
       "        38.5, 39. , 39.5, 40. , 40.5, 41. , 41.5, 42. , 42.5, 43. , 43.5,\n",
       "        44. , 44.5, 45. , 45.5, 46. , 46.5, 47. , 47.5, 48. , 48.5, 49. ,\n",
       "        49.5, 50. , 50.5, 51. , 51.5, 52. , 52.5, 53. , 53.5, 54. , 54.5,\n",
       "        55. , 55.5, 56. , 56.5, 57. , 57.5, 58. ]),\n",
       " <BarContainer object of 50 artists>)"
      ]
     },
     "execution_count": 36,
     "metadata": {},
     "output_type": "execute_result"
    },
    {
     "data": {
      "image/png": "[encoded data removed]",
      "text/plain": [
       "<Figure size 432x288 with 1 Axes>"
      ]
     },
     "metadata": {
      "needs_background": "light"
     },
     "output_type": "display_data"
    }
   ],
   "source": [
    "plt.hist(list(map(len, Y)), bins=50)"
   ]
  },
  {
   "cell_type": "code",
   "execution_count": 37,
   "id": "8c41ecaa",
   "metadata": {},
   "outputs": [
    {
     "name": "stdout",
     "output_type": "stream",
     "text": [
      "Microsoft?s\n",
      "Kadipur,\n",
      "Jind,\n",
      "wash:\n",
      "centres:\n",
      "Priyadarshan,\n",
      "Colombo,\n",
      "Coimbatore,\n",
      "Berlin/\n"
     ]
    },
    {
     "data": {
      "text/plain": [
       "4396"
      ]
     },
     "execution_count": 37,
     "metadata": {},
     "output_type": "execute_result"
    }
   ],
   "source": [
    "# data vis\n",
    "X = list()\n",
    "c = 0\n",
    "for text in texts:\n",
    "    x = list()\n",
    "    for token in text.split():\n",
    "        if len(token) < 3:\n",
    "            continue\n",
    "        if token in word2idx:\n",
    "            x.append(word2idx[token])\n",
    "        elif token.lower() in word2idx:\n",
    "            x.append(word2idx[token.lower()])\n",
    "        elif re.sub(r'[^\\w\\s]', '', token) in word2idx:\n",
    "            print(token)\n",
    "            x.append(re.sub(r'[^\\w\\s]', '', token))\n",
    "    X.append(x)\n",
    "len(X)"
   ]
  },
  {
   "cell_type": "code",
   "execution_count": 38,
   "id": "d0ebefd8",
   "metadata": {},
   "outputs": [
    {
     "data": {
      "text/plain": [
       "(array([1.674e+03, 1.955e+03, 5.340e+02, 1.290e+02, 3.700e+01, 1.800e+01,\n",
       "        8.000e+00, 1.100e+01, 6.000e+00, 3.000e+00, 6.000e+00, 2.000e+00,\n",
       "        1.000e+00, 3.000e+00, 0.000e+00, 2.000e+00, 1.000e+00, 0.000e+00,\n",
       "        1.000e+00, 2.000e+00, 2.000e+00, 0.000e+00, 0.000e+00, 0.000e+00,\n",
       "        0.000e+00, 0.000e+00, 0.000e+00, 0.000e+00, 0.000e+00, 0.000e+00,\n",
       "        0.000e+00, 0.000e+00, 0.000e+00, 0.000e+00, 0.000e+00, 0.000e+00,\n",
       "        0.000e+00, 0.000e+00, 0.000e+00, 0.000e+00, 0.000e+00, 0.000e+00,\n",
       "        0.000e+00, 0.000e+00, 0.000e+00, 0.000e+00, 0.000e+00, 0.000e+00,\n",
       "        0.000e+00, 1.000e+00]),\n",
       " array([1.0000e+00, 1.9420e+02, 3.8740e+02, 5.8060e+02, 7.7380e+02,\n",
       "        9.6700e+02, 1.1602e+03, 1.3534e+03, 1.5466e+03, 1.7398e+03,\n",
       "        1.9330e+03, 2.1262e+03, 2.3194e+03, 2.5126e+03, 2.7058e+03,\n",
       "        2.8990e+03, 3.0922e+03, 3.2854e+03, 3.4786e+03, 3.6718e+03,\n",
       "        3.8650e+03, 4.0582e+03, 4.2514e+03, 4.4446e+03, 4.6378e+03,\n",
       "        4.8310e+03, 5.0242e+03, 5.2174e+03, 5.4106e+03, 5.6038e+03,\n",
       "        5.7970e+03, 5.9902e+03, 6.1834e+03, 6.3766e+03, 6.5698e+03,\n",
       "        6.7630e+03, 6.9562e+03, 7.1494e+03, 7.3426e+03, 7.5358e+03,\n",
       "        7.7290e+03, 7.9222e+03, 8.1154e+03, 8.3086e+03, 8.5018e+03,\n",
       "        8.6950e+03, 8.8882e+03, 9.0814e+03, 9.2746e+03, 9.4678e+03,\n",
       "        9.6610e+03]),\n",
       " <BarContainer object of 50 artists>)"
      ]
     },
     "execution_count": 38,
     "metadata": {},
     "output_type": "execute_result"
    },
    {
     "data": {
      "image/png": "[encoded data removed]",
      "text/plain": [
       "<Figure size 432x288 with 1 Axes>"
      ]
     },
     "metadata": {
      "needs_background": "light"
     },
     "output_type": "display_data"
    }
   ],
   "source": [
    "plt.hist(list(map(len, X)), bins=50)"
   ]
  },
  {
   "cell_type": "code",
   "execution_count": 39,
   "id": "271a31d1",
   "metadata": {},
   "outputs": [],
   "source": [
    "with open('data/vocab_embed.pkl', 'wb') as f:\n",
    "    pickle.dump((embedding, idx2word, word2idx, glove_idx2idx),f,-1)"
   ]
  },
  {
   "cell_type": "code",
   "execution_count": 40,
   "id": "a25214d3",
   "metadata": {},
   "outputs": [],
   "source": [
    "with open('data/vocab_embed.data.pkl','wb') as f:\n",
    "    pickle.dump((X,Y),f,-1)"
   ]
  },
  {
   "cell_type": "code",
   "execution_count": 41,
   "id": "762d72b7",
   "metadata": {},
   "outputs": [
    {
     "data": {
      "text/plain": [
       "4396"
      ]
     },
     "execution_count": 41,
     "metadata": {},
     "output_type": "execute_result"
    }
   ],
   "source": [
    "len(X)"
   ]
  },
  {
   "cell_type": "code",
   "execution_count": 42,
   "id": "2fd76f2c",
   "metadata": {},
   "outputs": [
    {
     "data": {
      "text/plain": [
       "4396"
      ]
     },
     "execution_count": 42,
     "metadata": {},
     "output_type": "execute_result"
    }
   ],
   "source": [
    "len(Y)"
   ]
  },
  {
   "cell_type": "markdown",
   "id": "0b4b1d57",
   "metadata": {},
   "source": [
    "### "
   ]
  },
  {
   "cell_type": "code",
   "execution_count": 43,
   "id": "237d4c1a",
   "metadata": {},
   "outputs": [
    {
     "data": {
      "text/plain": [
       "64913"
      ]
     },
     "execution_count": 43,
     "metadata": {},
     "output_type": "execute_result"
    }
   ],
   "source": [
    "len(idx2word)-vocab_size-len(glove_idx2idx)"
   ]
  },
  {
   "cell_type": "code",
   "execution_count": 44,
   "id": "1ad444ee",
   "metadata": {},
   "outputs": [
    {
     "data": {
      "text/plain": [
       "143615"
      ]
     },
     "execution_count": 44,
     "metadata": {},
     "output_type": "execute_result"
    }
   ],
   "source": [
    "len(idx2word)"
   ]
  },
  {
   "cell_type": "code",
   "execution_count": 45,
   "id": "ee7222fc",
   "metadata": {},
   "outputs": [
    {
     "data": {
      "text/plain": [
       "40000"
      ]
     },
     "execution_count": 45,
     "metadata": {},
     "output_type": "execute_result"
    }
   ],
   "source": [
    "vocab_size"
   ]
  },
  {
   "cell_type": "code",
   "execution_count": 47,
   "id": "a9e8acd4",
   "metadata": {},
   "outputs": [
    {
     "data": {
      "text/plain": [
       "38702"
      ]
     },
     "execution_count": 47,
     "metadata": {},
     "output_type": "execute_result"
    }
   ],
   "source": [
    "len(glove_idx2idx)"
   ]
  },
  {
   "cell_type": "code",
   "execution_count": 48,
   "id": "13f4d7d6",
   "metadata": {},
   "outputs": [],
   "source": [
    "def pprint(label, x):\n",
    "    print(label + \":\", ' '.join([idx2word[w] for w in x]))"
   ]
  },
  {
   "cell_type": "code",
   "execution_count": 49,
   "id": "0dadb0b4",
   "metadata": {},
   "outputs": [
    {
     "name": "stdout",
     "output_type": "stream",
     "text": [
      "a: Jammu and Kashmir Police have approached the Pakistan High Commission asking them claim the body Lashkar-e-Taiba commander Abu Dujana, who was killed security forces Tuesday. Notably, this the first time the authorities have approached the High Commission asking them claim the body any Pakistani national killed anti-militancy operation the state.\n"
     ]
    }
   ],
   "source": [
    "pprint('a', Y[30])"
   ]
  },
  {
   "cell_type": "code",
   "execution_count": null,
   "id": "58b7d0e2",
   "metadata": {},
   "outputs": [],
   "source": []
  }
 ],
 "metadata": {
  "kernelspec": {
   "display_name": "Python 3 (ipykernel)",
   "language": "python",
   "name": "python3"
  },
  "language_info": {
   "codemirror_mode": {
    "name": "ipython",
    "version": 3
   },
   "file_extension": ".py",
   "mimetype": "text/x-python",
   "name": "python",
   "nbconvert_exporter": "python",
   "pygments_lexer": "ipython3",
   "version": "3.9.7"
  }
 },
 "nbformat": 4,
 "nbformat_minor": 5
}
